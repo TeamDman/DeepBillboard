{
 "cells": [
  {
   "cell_type": "code",
   "execution_count": 257,
   "metadata": {
    "collapsed": true
   },
   "outputs": [],
   "source": [
    "import cv2\n",
    "import numpy as np"
   ]
  },
  {
   "cell_type": "code",
   "execution_count": 258,
   "outputs": [],
   "source": [
    "def display(image, scale=0.5):\n",
    "    shrunk = cv2.resize(image, (0,0), fx=scale, fy=scale)\n",
    "    cv2.imshow(\"Screen Location\", shrunk)\n",
    "\n",
    "    if cv2.waitKey(1000) & 0xFF == ord('q'):\n",
    "        cv2.destroyAllWindows()"
   ],
   "metadata": {
    "collapsed": false,
    "pycharm": {
     "name": "#%%\n"
    }
   }
  },
  {
   "cell_type": "code",
   "execution_count": 259,
   "outputs": [],
   "source": [
    "billboard_colour = [150, 20, 20]\n",
    "def strip_colours(image, preserve=billboard_colour):\n",
    "    black_indices = np.where((image != preserve).all(axis=2))\n",
    "    white_indices = np.where((image == preserve).all(axis=2))\n",
    "    rtn = image.copy()\n",
    "    rtn[black_indices] = [0,0,0]\n",
    "    rtn[white_indices] = [255,255,255]\n",
    "    return rtn\n",
    "\n",
    "# noinspection PyDefaultArgument\n",
    "def add_borders(image, border_color= [0,0,0], border_width=25):\n",
    "    return cv2.copyMakeBorder(\n",
    "        image,\n",
    "        border_width,\n",
    "        border_width,\n",
    "        border_width,\n",
    "        border_width,\n",
    "        cv2.BORDER_CONSTANT,\n",
    "        value=border_color\n",
    "    )"
   ],
   "metadata": {
    "collapsed": false,
    "pycharm": {
     "name": "#%%\n"
    }
   }
  },
  {
   "cell_type": "code",
   "execution_count": 260,
   "outputs": [
    {
     "name": "stdout",
     "output_type": "stream",
     "text": [
      "(1080, 1920, 3)\n"
     ]
    }
   ],
   "source": [
    "source_image = cv2.imread(\"../resources/new/015_00010.png\")\n",
    "print(source_image.shape)\n",
    "padded_source_image = add_borders(source_image)"
   ],
   "metadata": {
    "collapsed": false,
    "pycharm": {
     "name": "#%%\n"
    }
   }
  },
  {
   "cell_type": "code",
   "execution_count": 261,
   "outputs": [],
   "source": [
    "binary_image = strip_colours(padded_source_image)"
   ],
   "metadata": {
    "collapsed": false,
    "pycharm": {
     "name": "#%%\n"
    }
   }
  },
  {
   "cell_type": "code",
   "execution_count": 262,
   "outputs": [
    {
     "name": "stdout",
     "output_type": "stream",
     "text": [
      "37642.5\t4\n",
      "37641.5\t4\n",
      "2413.5\t4\n",
      "2406.5\t4\n",
      "100.5\t8\n",
      "100.0\t8\n",
      "16.0\t12\n",
      "13.0\t11\n",
      "10.0\t6\n",
      "10.0\t8\n",
      "[[[1944  136]]\n",
      "\n",
      " [[1674  181]]\n",
      "\n",
      " [[1666  307]]\n",
      "\n",
      " [[1944  283]]]\n"
     ]
    }
   ],
   "source": [
    "edged_image = cv2.Canny(binary_image, 30, 200)\n",
    "\n",
    "(contours, _) = cv2.findContours(\n",
    "    edged_image.copy(),\n",
    "    cv2.RETR_TREE,\n",
    "    cv2.CHAIN_APPROX_SIMPLE\n",
    ")\n",
    "contours = sorted(\n",
    "    contours,\n",
    "    key=cv2.contourArea,\n",
    "    reverse=True\n",
    ")[:10]\n",
    "\n",
    "\n",
    "best = (0,0)\n",
    "\n",
    "for contour in contours:\n",
    "    peri = cv2.arcLength(contour, True)\n",
    "    approx = cv2.approxPolyDP(contour, 0.02 * peri, True)\n",
    "    area = cv2.contourArea(contour)\n",
    "    print(area, end=\"\\t\")\n",
    "    print(len(approx))\n",
    "    # if len(approx) == 4:\n",
    "    if area > best[0]:\n",
    "      best = (area, approx)\n",
    "\n",
    "print(best[1])"
   ],
   "metadata": {
    "collapsed": false,
    "pycharm": {
     "name": "#%%\n"
    }
   }
  },
  {
   "cell_type": "code",
   "execution_count": 263,
   "outputs": [
    {
     "data": {
      "text/plain": "array([[[0, 0, 0],\n        [0, 0, 0],\n        [0, 0, 0],\n        ...,\n        [0, 0, 0],\n        [0, 0, 0],\n        [0, 0, 0]],\n\n       [[0, 0, 0],\n        [0, 0, 0],\n        [0, 0, 0],\n        ...,\n        [0, 0, 0],\n        [0, 0, 0],\n        [0, 0, 0]],\n\n       [[0, 0, 0],\n        [0, 0, 0],\n        [0, 0, 0],\n        ...,\n        [0, 0, 0],\n        [0, 0, 0],\n        [0, 0, 0]],\n\n       ...,\n\n       [[0, 0, 0],\n        [0, 0, 0],\n        [0, 0, 0],\n        ...,\n        [0, 0, 0],\n        [0, 0, 0],\n        [0, 0, 0]],\n\n       [[0, 0, 0],\n        [0, 0, 0],\n        [0, 0, 0],\n        ...,\n        [0, 0, 0],\n        [0, 0, 0],\n        [0, 0, 0]],\n\n       [[0, 0, 0],\n        [0, 0, 0],\n        [0, 0, 0],\n        ...,\n        [0, 0, 0],\n        [0, 0, 0],\n        [0, 0, 0]]], dtype=uint8)"
     },
     "execution_count": 263,
     "metadata": {},
     "output_type": "execute_result"
    }
   ],
   "source": [
    "display_image = padded_source_image.copy()\n",
    "# Take the best (largest) contour\n",
    "contours = best[1]\n",
    "\n",
    "# contours = np.subtract(contours, )\n",
    "\n",
    "cv2.drawContours(\n",
    "    display_image,\n",
    "    [best[1]],\n",
    "    -1,\n",
    "    (0,255,0),\n",
    "    3\n",
    ")"
   ],
   "metadata": {
    "collapsed": false,
    "pycharm": {
     "name": "#%%\n"
    }
   }
  },
  {
   "cell_type": "code",
   "execution_count": 264,
   "outputs": [],
   "source": [
    "# crop out border\n",
    "display_image = display_image[25:-25, 25:-25]"
   ],
   "metadata": {
    "collapsed": false,
    "pycharm": {
     "name": "#%%\n"
    }
   }
  },
  {
   "cell_type": "code",
   "execution_count": 265,
   "outputs": [],
   "source": [
    "display(source_image)\n",
    "display(display_image)"
   ],
   "metadata": {
    "collapsed": false,
    "pycharm": {
     "name": "#%%\n"
    }
   }
  }
 ],
 "metadata": {
  "kernelspec": {
   "display_name": "Python 3",
   "language": "python",
   "name": "python3"
  },
  "language_info": {
   "codemirror_mode": {
    "name": "ipython",
    "version": 2
   },
   "file_extension": ".py",
   "mimetype": "text/x-python",
   "name": "python",
   "nbconvert_exporter": "python",
   "pygments_lexer": "ipython2",
   "version": "2.7.6"
  }
 },
 "nbformat": 4,
 "nbformat_minor": 0
}