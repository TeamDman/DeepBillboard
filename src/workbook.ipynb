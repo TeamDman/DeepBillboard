{
 "cells": [
  {
   "cell_type": "code",
   "execution_count": 914,
   "metadata": {
    "collapsed": true
   },
   "outputs": [],
   "source": [
    "import cv2\n",
    "import numpy as np"
   ]
  },
  {
   "cell_type": "code",
   "execution_count": 915,
   "outputs": [],
   "source": [
    "def display(image, scale=0.5):\n",
    "    shrunk = cv2.resize(image, (0,0), fx=scale, fy=scale)\n",
    "    cv2.imshow(\"Screen Location\", shrunk)\n",
    "\n",
    "    if cv2.waitKey(1000) & 0xFF == ord('q'):\n",
    "        cv2.destroyAllWindows()"
   ],
   "metadata": {
    "collapsed": false,
    "pycharm": {
     "name": "#%%\n"
    }
   }
  },
  {
   "cell_type": "code",
   "execution_count": 916,
   "outputs": [],
   "source": [
    "billboard_colour = [150, 20, 20]\n",
    "def strip_colours(image, preserve=billboard_colour):\n",
    "    black_indices = np.where((image != preserve).all(axis=2))\n",
    "    white_indices = np.where((image == preserve).all(axis=2))\n",
    "    rtn = image.copy()\n",
    "    rtn[black_indices] = [0,0,0]\n",
    "    rtn[white_indices] = [255,255,255]\n",
    "    return rtn\n",
    "\n",
    "# noinspection PyDefaultArgument\n",
    "def add_borders(image, border_color= [0,0,0], border_width=25):\n",
    "    return cv2.copyMakeBorder(\n",
    "        image,\n",
    "        border_width,\n",
    "        border_width,\n",
    "        border_width,\n",
    "        border_width,\n",
    "        cv2.BORDER_CONSTANT,\n",
    "        value=border_color\n",
    "    )\n",
    "\n",
    "def remove_borders(image, border_width=25):\n",
    "  return image[border_width:-border_width, border_width:-border_width]\n",
    "\n",
    "# noinspection PyShadowingNames\n",
    "def get_largest_billboard_contour(image):\n",
    "    edged_image = cv2.Canny(image, 30, 200)\n",
    "\n",
    "    (contours, _) = cv2.findContours(\n",
    "        edged_image.copy(),\n",
    "        cv2.RETR_TREE,\n",
    "        cv2.CHAIN_APPROX_SIMPLE\n",
    "    )\n",
    "    contours = sorted(\n",
    "        contours,\n",
    "        key=cv2.contourArea,\n",
    "        reverse=True\n",
    "    )[:10]\n",
    "\n",
    "\n",
    "    best = (0,0)\n",
    "\n",
    "    for contour in contours:\n",
    "        peri = cv2.arcLength(contour, True)\n",
    "        approx = cv2.approxPolyDP(contour, 0.02 * peri, True)\n",
    "        area = cv2.contourArea(contour)\n",
    "        print(\"Found contour with {} nodes and total area {}\"\n",
    "              .format(len(approx), area))\n",
    "        # if len(approx) == 4:\n",
    "        if area > best[0]:\n",
    "          best = (area, approx)\n",
    "\n",
    "    return best[1] if best[0] > 0 else None\n",
    "\n",
    "# noinspection PyShadowingNames\n",
    "def get_contour_mask(image, contour):\n",
    "    rtn = image.copy()\n",
    "    cv2.drawContours(\n",
    "        image=rtn,\n",
    "        contours=[contour],\n",
    "        contourIdx=-1,\n",
    "        color=(255,255,255),\n",
    "        thickness=cv2.FILLED\n",
    "    )\n",
    "    return rtn\n",
    "\n",
    "def rotate(lst, x):\n",
    "    return lst[-x:] + lst[:-x]\n",
    "# noinspection PyShadowingNames\n",
    "def get_homo_warped_decal(background, decal, contour):\n",
    "    contour = [[x[0]] for x in contour]\n",
    "    # contour = contour[\n",
    "    contour = rotate(contour, 1)\n",
    "    contour = np.float32(contour)\n",
    "\n",
    "    h_decal, w_decal = decal.shape[:2]\n",
    "    h_background, w_background = background.shape[:2]\n",
    "    src = np.float32([\n",
    "        [0, h_decal],\n",
    "        [0,0],\n",
    "        [w_decal, 0],\n",
    "        [w_decal, h_decal],\n",
    "    ])\n",
    "    dst = np.float32(contour)\n",
    "    h, mask = cv2.findHomography(src, dst, cv2.RANSAC, 5.0)\n",
    "    warped = cv2.warpPerspective(decal_image, h, (w_background, h_background))\n",
    "    return warped"
   ],
   "metadata": {
    "collapsed": false,
    "pycharm": {
     "name": "#%%\n"
    }
   }
  },
  {
   "cell_type": "code",
   "execution_count": 917,
   "outputs": [],
   "source": [
    "source_image = cv2.imread(\"../resources/new/015_00010.png\")\n",
    "\n",
    "\n",
    "padded_source_image = add_borders(source_image)\n",
    "display(padded_source_image)\n",
    "\n",
    "binary_image = strip_colours(padded_source_image)\n",
    "display(binary_image)"
   ],
   "metadata": {
    "collapsed": false,
    "pycharm": {
     "name": "#%%\n"
    }
   }
  },
  {
   "cell_type": "code",
   "execution_count": 918,
   "outputs": [
    {
     "name": "stdout",
     "output_type": "stream",
     "text": [
      "Found contour with 4 nodes and total area 37642.5\n",
      "Found contour with 4 nodes and total area 37641.5\n",
      "Found contour with 4 nodes and total area 2413.5\n",
      "Found contour with 4 nodes and total area 2406.5\n",
      "Found contour with 8 nodes and total area 100.5\n",
      "Found contour with 8 nodes and total area 100.0\n",
      "Found contour with 12 nodes and total area 16.0\n",
      "Found contour with 11 nodes and total area 13.0\n",
      "Found contour with 6 nodes and total area 10.0\n",
      "Found contour with 8 nodes and total area 10.0\n"
     ]
    }
   ],
   "source": [
    "display_image = padded_source_image.copy()\n",
    "contour = get_largest_billboard_contour(binary_image)\n",
    "\n",
    "outlined = binary_image.copy()\n",
    "outlined = cv2.drawContours(\n",
    "    outlined,\n",
    "    [contour],\n",
    "    -1,\n",
    "    [0,255,0],\n",
    "    3\n",
    ")\n",
    "display(outlined)"
   ],
   "metadata": {
    "collapsed": false,
    "pycharm": {
     "name": "#%%\n"
    }
   }
  },
  {
   "cell_type": "code",
   "execution_count": 919,
   "outputs": [],
   "source": [
    "circles = display_image.copy()\n",
    "colors = [(0,255,0),(255,0,0),(255,255,0),(0,255,255)]\n",
    "for i, center in enumerate([x[0] for x in contour]):\n",
    "    cv2.circle(circles, tuple(center), 20, colors[i], -1)\n",
    "display(circles)"
   ],
   "metadata": {
    "collapsed": false,
    "pycharm": {
     "name": "#%%\n"
    }
   }
  },
  {
   "cell_type": "code",
   "execution_count": 920,
   "outputs": [],
   "source": [
    "# decal_image = cv2.imread(\"../resources/new/decal_0.png\")\n",
    "decal_image = cv2.imread(\"../resources/new/milk_sip.png\")\n",
    "\n",
    "warped = get_homo_warped_decal(outlined, decal_image, contour)\n",
    "display(warped)"
   ],
   "metadata": {
    "collapsed": false,
    "pycharm": {
     "name": "#%%\n"
    }
   }
  },
  {
   "cell_type": "code",
   "execution_count": 921,
   "outputs": [],
   "source": [
    "blank = np.zeros(display_image.shape, dtype=np.uint8)\n",
    "mask = get_contour_mask(blank, contour)\n",
    "display(mask)\n",
    "mask = cv2.bitwise_not(mask)\n",
    "display(mask)"
   ],
   "metadata": {
    "collapsed": false,
    "pycharm": {
     "name": "#%%\n"
    }
   }
  },
  {
   "cell_type": "code",
   "execution_count": 924,
   "outputs": [],
   "source": [
    "display_image_no_billboard = cv2.bitwise_and(display_image, mask)\n",
    "display(display_image_no_billboard)\n",
    "output_image = cv2.bitwise_or(display_image_no_billboard, warped)\n",
    "display(output_image)"
   ],
   "metadata": {
    "collapsed": false,
    "pycharm": {
     "name": "#%%\n"
    }
   }
  },
  {
   "cell_type": "code",
   "execution_count": 923,
   "outputs": [],
   "source": [
    "# final = cv2.bitwise_xor(display_image, display_image, mask=mask)\n",
    "# display(final)"
   ],
   "metadata": {
    "collapsed": false,
    "pycharm": {
     "name": "#%%\n"
    }
   }
  }
 ],
 "metadata": {
  "kernelspec": {
   "display_name": "Python 3",
   "language": "python",
   "name": "python3"
  },
  "language_info": {
   "codemirror_mode": {
    "name": "ipython",
    "version": 2
   },
   "file_extension": ".py",
   "mimetype": "text/x-python",
   "name": "python",
   "nbconvert_exporter": "python",
   "pygments_lexer": "ipython2",
   "version": "2.7.6"
  }
 },
 "nbformat": 4,
 "nbformat_minor": 0
}