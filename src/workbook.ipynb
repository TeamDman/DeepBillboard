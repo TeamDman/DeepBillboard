{
 "cells": [
  {
   "cell_type": "code",
   "execution_count": 105,
   "metadata": {
    "collapsed": true
   },
   "outputs": [],
   "source": [
    "import cv2\n",
    "import numpy as np\n"
   ]
  },
  {
   "cell_type": "code",
   "execution_count": 106,
   "outputs": [
    {
     "name": "stdout",
     "output_type": "stream",
     "text": [
      "(1080, 1920, 3)\n"
     ]
    }
   ],
   "source": [
    "source_image = cv2.imread(\"../resources/new/015_00010.png\")\n",
    "\n",
    "print(source_image.shape)"
   ],
   "metadata": {
    "collapsed": false,
    "pycharm": {
     "name": "#%%\n"
    }
   }
  },
  {
   "cell_type": "code",
   "execution_count": 107,
   "outputs": [],
   "source": [
    "def display(image, scale=0.5):\n",
    "    shrunk = cv2.resize(image, (0,0), fx=scale, fy=scale)\n",
    "    cv2.imshow(\"Screen Location\", shrunk)\n",
    "\n",
    "    if cv2.waitKey(0) & 0xFF == ord('q'):\n",
    "        cv2.destroyAllWindows()"
   ],
   "metadata": {
    "collapsed": false,
    "pycharm": {
     "name": "#%%\n"
    }
   }
  },
  {
   "cell_type": "code",
   "execution_count": 108,
   "outputs": [],
   "source": [
    "billboard_colour = [150, 20, 20]\n",
    "\n",
    "def strip_colours(image, preserve=billboard_colour):\n",
    "    black_indices = np.where((image != preserve).all(axis=2))\n",
    "    white_indices = np.where((image == preserve).all(axis=2))\n",
    "    rtn = image.copy()\n",
    "    rtn[black_indices] = [0,0,0]\n",
    "    rtn[white_indices] = [255,255,255]\n",
    "    return rtn\n",
    "\n",
    "# noinspection PyDefaultArgument\n",
    "def add_borders(image, border_color= [0,0,0], border_width=25):\n",
    "    return cv2.copyMakeBorder(\n",
    "        image,\n",
    "        border_width,\n",
    "        border_width,\n",
    "        border_width,\n",
    "        border_width,\n",
    "        cv2.BORDER_CONSTANT,\n",
    "        value=border_color\n",
    "    )\n",
    "\n",
    "binary_image = strip_colours(source_image)\n",
    "binary_image = add_borders(binary_image)"
   ],
   "metadata": {
    "collapsed": false,
    "pycharm": {
     "name": "#%%\n"
    }
   }
  },
  {
   "cell_type": "code",
   "execution_count": 109,
   "outputs": [
    {
     "name": "stdout",
     "output_type": "stream",
     "text": [
      "4\n",
      "4\n",
      "4\n",
      "4\n",
      "8\n",
      "8\n",
      "12\n",
      "11\n",
      "6\n",
      "8\n"
     ]
    }
   ],
   "source": [
    "edged_image = cv2.Canny(binary_image, 30, 200)\n",
    "\n",
    "(contours, _) = cv2.findContours(\n",
    "    edged_image.copy(),\n",
    "    cv2.RETR_TREE,\n",
    "    cv2.CHAIN_APPROX_SIMPLE\n",
    ")\n",
    "contours = sorted(\n",
    "    contours,\n",
    "    key=cv2.contourArea,\n",
    "    reverse=True\n",
    ")[:10]\n",
    "\n",
    "display_image = edged_image.copy()\n",
    "\n",
    "for contour in contours:\n",
    "    peri = cv2.arcLength(contour, True)\n",
    "    approx = cv2.approxPolyDP(contour, 0.02 * peri, True)\n",
    "    print(len(approx))\n",
    "    # if len(approx) == 4:\n",
    "    if True:\n",
    "      cv2.drawContours(\n",
    "          display_image,\n",
    "          [approx],\n",
    "          -1,\n",
    "          (0,255,0),\n",
    "          3\n",
    "      )"
   ],
   "metadata": {
    "collapsed": false,
    "pycharm": {
     "name": "#%%\n"
    }
   }
  },
  {
   "cell_type": "code",
   "execution_count": 111,
   "outputs": [],
   "source": [
    "display(display_image)"
   ],
   "metadata": {
    "collapsed": false,
    "pycharm": {
     "name": "#%%\n"
    }
   }
  },
  {
   "cell_type": "code",
   "execution_count": 104,
   "outputs": [],
   "source": [],
   "metadata": {
    "collapsed": false,
    "pycharm": {
     "name": "#%%\n"
    }
   }
  }
 ],
 "metadata": {
  "kernelspec": {
   "display_name": "Python 3",
   "language": "python",
   "name": "python3"
  },
  "language_info": {
   "codemirror_mode": {
    "name": "ipython",
    "version": 2
   },
   "file_extension": ".py",
   "mimetype": "text/x-python",
   "name": "python",
   "nbconvert_exporter": "python",
   "pygments_lexer": "ipython2",
   "version": "2.7.6"
  }
 },
 "nbformat": 4,
 "nbformat_minor": 0
}