{
 "cells": [
  {
   "cell_type": "code",
   "execution_count": 662,
   "metadata": {
    "collapsed": true
   },
   "outputs": [],
   "source": [
    "import cv2\n",
    "import numpy as np"
   ]
  },
  {
   "cell_type": "code",
   "execution_count": 663,
   "outputs": [],
   "source": [
    "def display(image, scale=0.5):\n",
    "    shrunk = cv2.resize(image, (0,0), fx=scale, fy=scale)\n",
    "    cv2.imshow(\"Screen Location\", shrunk)\n",
    "\n",
    "    if cv2.waitKey(1000) & 0xFF == ord('q'):\n",
    "        cv2.destroyAllWindows()"
   ],
   "metadata": {
    "collapsed": false,
    "pycharm": {
     "name": "#%%\n"
    }
   }
  },
  {
   "cell_type": "code",
   "execution_count": 664,
   "outputs": [],
   "source": [
    "billboard_colour = [150, 20, 20]\n",
    "def strip_colours(image, preserve=billboard_colour):\n",
    "    black_indices = np.where((image != preserve).all(axis=2))\n",
    "    white_indices = np.where((image == preserve).all(axis=2))\n",
    "    rtn = image.copy()\n",
    "    rtn[black_indices] = [0,0,0]\n",
    "    rtn[white_indices] = [255,255,255]\n",
    "    return rtn\n",
    "\n",
    "# noinspection PyDefaultArgument\n",
    "def add_borders(image, border_color= [0,0,0], border_width=25):\n",
    "    return cv2.copyMakeBorder(\n",
    "        image,\n",
    "        border_width,\n",
    "        border_width,\n",
    "        border_width,\n",
    "        border_width,\n",
    "        cv2.BORDER_CONSTANT,\n",
    "        value=border_color\n",
    "    )\n",
    "\n",
    "def remove_borders(image, border_width=25):\n",
    "  return image[border_width:-border_width, border_width:-border_width]\n",
    "\n",
    "# noinspection PyShadowingNames\n",
    "def get_largest_billboard_contour(image):\n",
    "    edged_image = cv2.Canny(image, 30, 200)\n",
    "\n",
    "    (contours, _) = cv2.findContours(\n",
    "        edged_image.copy(),\n",
    "        cv2.RETR_TREE,\n",
    "        cv2.CHAIN_APPROX_SIMPLE\n",
    "    )\n",
    "    contours = sorted(\n",
    "        contours,\n",
    "        key=cv2.contourArea,\n",
    "        reverse=True\n",
    "    )[:10]\n",
    "\n",
    "\n",
    "    best = (0,0)\n",
    "\n",
    "    for contour in contours:\n",
    "        peri = cv2.arcLength(contour, True)\n",
    "        approx = cv2.approxPolyDP(contour, 0.02 * peri, True)\n",
    "        area = cv2.contourArea(contour)\n",
    "        print(area, end=\"\\t\")\n",
    "        print(len(approx))\n",
    "        # if len(approx) == 4:\n",
    "        if area > best[0]:\n",
    "          best = (area, approx)\n",
    "\n",
    "    return best[1] if best[0] > 0 else None\n",
    "\n",
    "# noinspection PyShadowingNames\n",
    "def get_contour_mask(image, contour):\n",
    "    rtn = image.copy()\n",
    "    cv2.drawContours(\n",
    "        image=rtn,\n",
    "        contours=[contour],\n",
    "        contourIdx=-1,\n",
    "        color=(255,255,255),\n",
    "        thickness=cv2.FILLED\n",
    "    )\n",
    "    return rtn"
   ],
   "metadata": {
    "collapsed": false,
    "pycharm": {
     "name": "#%%\n"
    }
   }
  },
  {
   "cell_type": "code",
   "execution_count": 665,
   "outputs": [
    {
     "name": "stdout",
     "output_type": "stream",
     "text": [
      "(1080, 1920, 3)\n"
     ]
    }
   ],
   "source": [
    "source_image = cv2.imread(\"../resources/new/015_00010.png\")\n",
    "print(source_image.shape)\n",
    "\n",
    "padded_source_image = add_borders(source_image)\n",
    "display(padded_source_image)\n",
    "\n",
    "binary_image = strip_colours(padded_source_image)\n",
    "display(binary_image)"
   ],
   "metadata": {
    "collapsed": false,
    "pycharm": {
     "name": "#%%\n"
    }
   }
  },
  {
   "cell_type": "code",
   "execution_count": 666,
   "outputs": [
    {
     "name": "stdout",
     "output_type": "stream",
     "text": [
      "37642.5\t4\n",
      "37641.5\t4\n",
      "2413.5\t4\n",
      "2406.5\t4\n",
      "100.5\t8\n",
      "100.0\t8\n",
      "16.0\t12\n",
      "13.0\t11\n",
      "10.0\t6\n",
      "10.0\t8\n"
     ]
    }
   ],
   "source": [
    "display_image = padded_source_image.copy()\n",
    "contour = get_largest_billboard_contour(binary_image)"
   ],
   "metadata": {
    "collapsed": false,
    "pycharm": {
     "name": "#%%\n"
    }
   }
  },
  {
   "cell_type": "code",
   "execution_count": 667,
   "outputs": [],
   "source": [
    "outlined = display_image.copy()\n",
    "outlined = cv2.drawContours(\n",
    "    outlined,\n",
    "    [contour],\n",
    "    -1,\n",
    "    [0,255,0],\n",
    "    3\n",
    ")\n",
    "display(outlined)"
   ],
   "metadata": {
    "collapsed": false,
    "pycharm": {
     "name": "#%%\n"
    }
   }
  },
  {
   "cell_type": "code",
   "execution_count": 690,
   "outputs": [
    {
     "name": "stdout",
     "output_type": "stream",
     "text": [
      "(1130, 1970, 3)\n",
      "[[[1944  136]]\n",
      "\n",
      " [[1674  181]]\n",
      "\n",
      " [[1666  307]]\n",
      "\n",
      " [[1944  283]]]\n",
      "[[[3888  419]]\n",
      "\n",
      " [[3618  464]]\n",
      "\n",
      " [[3610  590]]]\n"
     ]
    },
    {
     "ename": "error",
     "evalue": "OpenCV(4.4.0) C:\\Users\\appveyor\\AppData\\Local\\Temp\\1\\pip-req-build-wbmte9m7\\opencv\\modules\\calib3d\\src\\fundam.cpp:380: error: (-215:Assertion failed) src.checkVector(2) == dst.checkVector(2) in function 'cv::findHomography'\n",
     "output_type": "error",
     "traceback": [
      "\u001B[1;31m---------------------------------------------------------------------------\u001B[0m",
      "\u001B[1;31merror\u001B[0m                                     Traceback (most recent call last)",
      "\u001B[1;32m<ipython-input-690-23e1519b228f>\u001B[0m in \u001B[0;36m<module>\u001B[1;34m\u001B[0m\n\u001B[0;32m     61\u001B[0m \u001B[0mprint\u001B[0m\u001B[1;33m(\u001B[0m\u001B[0moutlined\u001B[0m\u001B[1;33m.\u001B[0m\u001B[0mshape\u001B[0m\u001B[1;33m)\u001B[0m\u001B[1;33m\u001B[0m\u001B[1;33m\u001B[0m\u001B[0m\n\u001B[0;32m     62\u001B[0m \u001B[1;33m\u001B[0m\u001B[0m\n\u001B[1;32m---> 63\u001B[1;33m \u001B[0mwarped\u001B[0m \u001B[1;33m=\u001B[0m \u001B[0mget_homo_warped_decal\u001B[0m\u001B[1;33m(\u001B[0m\u001B[0moutlined\u001B[0m\u001B[1;33m,\u001B[0m \u001B[0mdecal_image\u001B[0m\u001B[1;33m,\u001B[0m \u001B[0mcontour\u001B[0m\u001B[1;33m)\u001B[0m\u001B[1;33m\u001B[0m\u001B[1;33m\u001B[0m\u001B[0m\n\u001B[0m\u001B[0;32m     64\u001B[0m \u001B[0mtemp\u001B[0m \u001B[1;33m=\u001B[0m \u001B[0mcv2\u001B[0m\u001B[1;33m.\u001B[0m\u001B[0maddWeighted\u001B[0m\u001B[1;33m(\u001B[0m\u001B[0moutlined\u001B[0m\u001B[1;33m,\u001B[0m \u001B[1;36m0.5\u001B[0m\u001B[1;33m,\u001B[0m \u001B[0mwarped\u001B[0m\u001B[1;33m,\u001B[0m \u001B[1;36m0.5\u001B[0m\u001B[1;33m,\u001B[0m \u001B[1;36m1\u001B[0m\u001B[1;33m)\u001B[0m\u001B[1;33m\u001B[0m\u001B[1;33m\u001B[0m\u001B[0m\n\u001B[0;32m     65\u001B[0m \u001B[0mdisplay\u001B[0m\u001B[1;33m(\u001B[0m\u001B[0mtemp\u001B[0m\u001B[1;33m)\u001B[0m\u001B[1;33m\u001B[0m\u001B[1;33m\u001B[0m\u001B[0m\n",
      "\u001B[1;32m<ipython-input-690-23e1519b228f>\u001B[0m in \u001B[0;36mget_homo_warped_decal\u001B[1;34m(background, decal, contour)\u001B[0m\n\u001B[0;32m     32\u001B[0m     ])\n\u001B[0;32m     33\u001B[0m     \u001B[0mdst\u001B[0m \u001B[1;33m=\u001B[0m \u001B[0mnp\u001B[0m\u001B[1;33m.\u001B[0m\u001B[0mfloat32\u001B[0m\u001B[1;33m(\u001B[0m\u001B[0mcontour\u001B[0m\u001B[1;33m)\u001B[0m\u001B[1;33m\u001B[0m\u001B[1;33m\u001B[0m\u001B[0m\n\u001B[1;32m---> 34\u001B[1;33m     \u001B[0mh\u001B[0m\u001B[1;33m,\u001B[0m \u001B[0mmask\u001B[0m \u001B[1;33m=\u001B[0m \u001B[0mcv2\u001B[0m\u001B[1;33m.\u001B[0m\u001B[0mfindHomography\u001B[0m\u001B[1;33m(\u001B[0m\u001B[0msrc\u001B[0m\u001B[1;33m,\u001B[0m \u001B[0mdst\u001B[0m\u001B[1;33m,\u001B[0m \u001B[0mcv2\u001B[0m\u001B[1;33m.\u001B[0m\u001B[0mRANSAC\u001B[0m\u001B[1;33m,\u001B[0m \u001B[1;36m5.0\u001B[0m\u001B[1;33m)\u001B[0m\u001B[1;33m\u001B[0m\u001B[1;33m\u001B[0m\u001B[0m\n\u001B[0m\u001B[0;32m     35\u001B[0m     \u001B[0mwarped\u001B[0m \u001B[1;33m=\u001B[0m \u001B[0mcv2\u001B[0m\u001B[1;33m.\u001B[0m\u001B[0mwarpPerspective\u001B[0m\u001B[1;33m(\u001B[0m\u001B[0mdecal_image\u001B[0m\u001B[1;33m,\u001B[0m \u001B[0mh\u001B[0m\u001B[1;33m,\u001B[0m \u001B[1;33m(\u001B[0m\u001B[0mw_background\u001B[0m\u001B[1;33m,\u001B[0m \u001B[0mh_background\u001B[0m\u001B[1;33m)\u001B[0m\u001B[1;33m)\u001B[0m\u001B[1;33m\u001B[0m\u001B[1;33m\u001B[0m\u001B[0m\n\u001B[0;32m     36\u001B[0m     \u001B[0mcolors\u001B[0m \u001B[1;33m=\u001B[0m \u001B[1;33m[\u001B[0m\u001B[1;33m(\u001B[0m\u001B[1;36m0\u001B[0m\u001B[1;33m,\u001B[0m\u001B[1;36m255\u001B[0m\u001B[1;33m,\u001B[0m\u001B[1;36m0\u001B[0m\u001B[1;33m)\u001B[0m\u001B[1;33m,\u001B[0m\u001B[1;33m(\u001B[0m\u001B[1;36m255\u001B[0m\u001B[1;33m,\u001B[0m\u001B[1;36m0\u001B[0m\u001B[1;33m,\u001B[0m\u001B[1;36m0\u001B[0m\u001B[1;33m)\u001B[0m\u001B[1;33m,\u001B[0m\u001B[1;33m(\u001B[0m\u001B[1;36m255\u001B[0m\u001B[1;33m,\u001B[0m\u001B[1;36m255\u001B[0m\u001B[1;33m,\u001B[0m\u001B[1;36m0\u001B[0m\u001B[1;33m)\u001B[0m\u001B[1;33m,\u001B[0m\u001B[1;33m(\u001B[0m\u001B[1;36m0\u001B[0m\u001B[1;33m,\u001B[0m\u001B[1;36m255\u001B[0m\u001B[1;33m,\u001B[0m\u001B[1;36m255\u001B[0m\u001B[1;33m)\u001B[0m\u001B[1;33m]\u001B[0m\u001B[1;33m\u001B[0m\u001B[1;33m\u001B[0m\u001B[0m\n",
      "\u001B[1;31merror\u001B[0m: OpenCV(4.4.0) C:\\Users\\appveyor\\AppData\\Local\\Temp\\1\\pip-req-build-wbmte9m7\\opencv\\modules\\calib3d\\src\\fundam.cpp:380: error: (-215:Assertion failed) src.checkVector(2) == dst.checkVector(2) in function 'cv::findHomography'\n"
     ]
    }
   ],
   "source": [
    "# noinspection PyShadowingNames\n",
    "def get_perspective_warped_decal(background, decal, contour):\n",
    "    src = np.float32([\n",
    "        [0,0],\n",
    "        [decal.shape[0], 0],\n",
    "        decal.shape[:2],\n",
    "        [0, decal.shape[1]],\n",
    "    ])\n",
    "    dst = np.float32(contour)\n",
    "    m = cv2.getPerspectiveTransform(dst, src)\n",
    "    warped = cv2.warpPerspective(\n",
    "        decal_image,\n",
    "        m,\n",
    "        (background.shape[1], background.shape[0])\n",
    "    )\n",
    "    return warped\n",
    "\n",
    "# noinspection PyShadowingNames\n",
    "def get_affine_warped_decal(background, decal, contour):\n",
    "    src = np.float32([\n",
    "        [0,0],\n",
    "        [decal.shape[0], 0],\n",
    "        # decal.shape[:2],\n",
    "        [0, decal.shape[1]],\n",
    "    ])\n",
    "    dst = np.float32([x[0] for i,x in enumerate(contour) if i!=2])\n",
    "    m = cv2.getAffineTransform(src, dst)\n",
    "    warped = cv2.warpAffine(\n",
    "        decal_image,\n",
    "        m,\n",
    "        (background.shape[1], background.shape[0])\n",
    "    )\n",
    "    return warped"
   ],
   "metadata": {
    "collapsed": false,
    "pycharm": {
     "name": "#%%\n"
    }
   }
  },
  {
   "cell_type": "code",
   "execution_count": 794,
   "outputs": [],
   "source": [
    "def rotate(lst, x):\n",
    "    return lst[-x:] + lst[:-x]\n",
    "# noinspection PyShadowingNames\n",
    "def get_homo_warped_decal(background, decal, contour):\n",
    "    contour = [[x[0]] for x in contour]\n",
    "    # contour = contour[\n",
    "    contour = rotate(contour, 1)\n",
    "    contour = np.float32(contour)\n",
    "\n",
    "    h_decal, w_decal = decal.shape[:2]\n",
    "    h_background, w_background = background.shape[:2]\n",
    "    src = np.float32([\n",
    "        [0, h_decal],\n",
    "        [0,0],\n",
    "        [w_decal, 0],\n",
    "        [w_decal, h_decal],\n",
    "    ])\n",
    "    dst = np.float32(contour)\n",
    "    h, mask = cv2.findHomography(src, dst, cv2.RANSAC, 5.0)\n",
    "    warped = cv2.warpPerspective(decal_image, h, (w_background, h_background))\n",
    "    colors = [(0,255,0),(255,0,0),(255,255,0),(0,255,255)]\n",
    "    for i, center in enumerate([x[0] for x in contour]):\n",
    "        cv2.circle(warped, tuple(center), 20, colors[i], -1)\n",
    "    return warped\n",
    "\n",
    "\n",
    "decal_image = cv2.imread(\"../resources/new/decal_0.png\")\n",
    "\n",
    "warped = get_homo_warped_decal(outlined, decal_image, contour)\n",
    "temp = cv2.addWeighted(outlined, 1, warped, 1, 1)\n",
    "display(temp)\n",
    "\n",
    "# warped = get_affine_warped_decal(outlined, decal_image, contour)\n",
    "# temp = cv2.addWeighted(outlined, 0.5, warped, 0.5, 1)\n",
    "# display(temp)"
   ],
   "metadata": {
    "collapsed": false,
    "pycharm": {
     "name": "#%%\n"
    }
   }
  },
  {
   "cell_type": "code",
   "execution_count": 669,
   "outputs": [],
   "source": [
    "mask = get_contour_mask(display_image, contour)\n",
    "display(mask)"
   ],
   "metadata": {
    "collapsed": false,
    "pycharm": {
     "name": "#%%\n"
    }
   }
  },
  {
   "cell_type": "code",
   "execution_count": 670,
   "outputs": [],
   "source": [
    "# final = cv2.bitwise_xor(display_image, display_image, mask=mask)\n",
    "# display(final)"
   ],
   "metadata": {
    "collapsed": false,
    "pycharm": {
     "name": "#%%\n"
    }
   }
  }
 ],
 "metadata": {
  "kernelspec": {
   "display_name": "Python 3",
   "language": "python",
   "name": "python3"
  },
  "language_info": {
   "codemirror_mode": {
    "name": "ipython",
    "version": 2
   },
   "file_extension": ".py",
   "mimetype": "text/x-python",
   "name": "python",
   "nbconvert_exporter": "python",
   "pygments_lexer": "ipython2",
   "version": "2.7.6"
  }
 },
 "nbformat": 4,
 "nbformat_minor": 0
}