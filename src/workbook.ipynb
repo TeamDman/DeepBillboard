{
 "cells": [
  {
   "cell_type": "code",
   "execution_count": 299,
   "metadata": {
    "collapsed": true
   },
   "outputs": [],
   "source": [
    "import cv2\n",
    "import numpy as np"
   ]
  },
  {
   "cell_type": "code",
   "execution_count": 300,
   "outputs": [],
   "source": [
    "def display(image, scale=0.5):\n",
    "    shrunk = cv2.resize(image, (0,0), fx=scale, fy=scale)\n",
    "    cv2.imshow(\"Screen Location\", shrunk)\n",
    "\n",
    "    if cv2.waitKey(1000) & 0xFF == ord('q'):\n",
    "        cv2.destroyAllWindows()"
   ],
   "metadata": {
    "collapsed": false,
    "pycharm": {
     "name": "#%%\n"
    }
   }
  },
  {
   "cell_type": "code",
   "execution_count": 301,
   "outputs": [],
   "source": [
    "billboard_colour = [150, 20, 20]\n",
    "def strip_colours(image, preserve=billboard_colour):\n",
    "    black_indices = np.where((image != preserve).all(axis=2))\n",
    "    white_indices = np.where((image == preserve).all(axis=2))\n",
    "    rtn = image.copy()\n",
    "    rtn[black_indices] = [0,0,0]\n",
    "    rtn[white_indices] = [255,255,255]\n",
    "    return rtn\n",
    "\n",
    "# noinspection PyDefaultArgument\n",
    "def add_borders(image, border_color= [0,0,0], border_width=25):\n",
    "    return cv2.copyMakeBorder(\n",
    "        image,\n",
    "        border_width,\n",
    "        border_width,\n",
    "        border_width,\n",
    "        border_width,\n",
    "        cv2.BORDER_CONSTANT,\n",
    "        value=border_color\n",
    "    )\n",
    "\n",
    "def remove_borders(image, border_width=25):\n",
    "  return image[border_width:-border_width, border_width:-border_width]\n",
    "\n",
    "def get_largest_billboard_contour(image):\n",
    "    edged_image = cv2.Canny(binary_image, 30, 200)\n",
    "\n",
    "    (contours, _) = cv2.findContours(\n",
    "        edged_image.copy(),\n",
    "        cv2.RETR_TREE,\n",
    "        cv2.CHAIN_APPROX_SIMPLE\n",
    "    )\n",
    "    contours = sorted(\n",
    "        contours,\n",
    "        key=cv2.contourArea,\n",
    "        reverse=True\n",
    "    )[:10]\n",
    "\n",
    "\n",
    "    best = (0,0)\n",
    "\n",
    "    for contour in contours:\n",
    "        peri = cv2.arcLength(contour, True)\n",
    "        approx = cv2.approxPolyDP(contour, 0.02 * peri, True)\n",
    "        area = cv2.contourArea(contour)\n",
    "        print(area, end=\"\\t\")\n",
    "        print(len(approx))\n",
    "        # if len(approx) == 4:\n",
    "        if area > best[0]:\n",
    "          best = (area, approx)\n",
    "\n",
    "    return best[1] if best[0] > 0 else None"
   ],
   "metadata": {
    "collapsed": false,
    "pycharm": {
     "name": "#%%\n"
    }
   }
  },
  {
   "cell_type": "code",
   "execution_count": 302,
   "outputs": [
    {
     "name": "stdout",
     "output_type": "stream",
     "text": [
      "(1080, 1920, 3)\n"
     ]
    }
   ],
   "source": [
    "source_image = cv2.imread(\"../resources/new/015_00010.png\")\n",
    "print(source_image.shape)\n",
    "\n",
    "padded_source_image = add_borders(source_image)\n",
    "binary_image = strip_colours(padded_source_image)"
   ],
   "metadata": {
    "collapsed": false,
    "pycharm": {
     "name": "#%%\n"
    }
   }
  },
  {
   "cell_type": "code",
   "execution_count": 303,
   "outputs": [
    {
     "name": "stdout",
     "output_type": "stream",
     "text": [
      "37642.5\t4\n",
      "37641.5\t4\n",
      "2413.5\t4\n",
      "2406.5\t4\n",
      "100.5\t8\n",
      "100.0\t8\n",
      "16.0\t12\n",
      "13.0\t11\n",
      "10.0\t6\n",
      "10.0\t8\n"
     ]
    },
    {
     "data": {
      "text/plain": "array([[[0, 0, 0],\n        [0, 0, 0],\n        [0, 0, 0],\n        ...,\n        [0, 0, 0],\n        [0, 0, 0],\n        [0, 0, 0]],\n\n       [[0, 0, 0],\n        [0, 0, 0],\n        [0, 0, 0],\n        ...,\n        [0, 0, 0],\n        [0, 0, 0],\n        [0, 0, 0]],\n\n       [[0, 0, 0],\n        [0, 0, 0],\n        [0, 0, 0],\n        ...,\n        [0, 0, 0],\n        [0, 0, 0],\n        [0, 0, 0]],\n\n       ...,\n\n       [[0, 0, 0],\n        [0, 0, 0],\n        [0, 0, 0],\n        ...,\n        [0, 0, 0],\n        [0, 0, 0],\n        [0, 0, 0]],\n\n       [[0, 0, 0],\n        [0, 0, 0],\n        [0, 0, 0],\n        ...,\n        [0, 0, 0],\n        [0, 0, 0],\n        [0, 0, 0]],\n\n       [[0, 0, 0],\n        [0, 0, 0],\n        [0, 0, 0],\n        ...,\n        [0, 0, 0],\n        [0, 0, 0],\n        [0, 0, 0]]], dtype=uint8)"
     },
     "execution_count": 303,
     "metadata": {},
     "output_type": "execute_result"
    }
   ],
   "source": [
    "display_image = padded_source_image.copy()\n",
    "# Take the best (largest) contour\n",
    "contour = get_largest_billboard_contour(binary_image)\n",
    "cv2.drawContours(\n",
    "    display_image,\n",
    "    [contour],\n",
    "    -1,\n",
    "    (0,255,0),\n",
    "    3\n",
    ")"
   ],
   "metadata": {
    "collapsed": false,
    "pycharm": {
     "name": "#%%\n"
    }
   }
  },
  {
   "cell_type": "code",
   "execution_count": 304,
   "outputs": [],
   "source": [
    "# crop out border we added earlier\n",
    "display_image = remove_borders(display_image)\n",
    "\n",
    "display(source_image)\n",
    "display(display_image)"
   ],
   "metadata": {
    "collapsed": false,
    "pycharm": {
     "name": "#%%\n"
    }
   }
  },
  {
   "cell_type": "code",
   "execution_count": 324,
   "outputs": [
    {
     "name": "stdout",
     "output_type": "stream",
     "text": [
      "(400, 600, 3)\n",
      "(4, 2)\n",
      "(8, 1, 2)\n",
      "[[[1885  321]]\n",
      "\n",
      " [[1886  320]]\n",
      "\n",
      " [[1888  320]]\n",
      "\n",
      " [[1889  321]]\n",
      "\n",
      " [[1889  322]]\n",
      "\n",
      " [[1888  323]]\n",
      "\n",
      " [[1886  323]]\n",
      "\n",
      " [[1885  322]]]\n"
     ]
    },
    {
     "ename": "error",
     "evalue": "OpenCV(4.4.0) C:\\Users\\appveyor\\AppData\\Local\\Temp\\1\\pip-req-build-wbmte9m7\\opencv\\modules\\imgproc\\src\\imgwarp.cpp:3391: error: (-215:Assertion failed) src.checkVector(2, CV_32F) == 4 && dst.checkVector(2, CV_32F) == 4 in function 'cv::getPerspectiveTransform'\n",
     "output_type": "error",
     "traceback": [
      "\u001B[1;31m---------------------------------------------------------------------------\u001B[0m",
      "\u001B[1;31merror\u001B[0m                                     Traceback (most recent call last)",
      "\u001B[1;32m<ipython-input-324-b9945747c0c2>\u001B[0m in \u001B[0;36m<module>\u001B[1;34m\u001B[0m\n\u001B[0;32m     13\u001B[0m transform = cv2.getPerspectiveTransform(\n\u001B[0;32m     14\u001B[0m     \u001B[0msrc\u001B[0m\u001B[1;33m,\u001B[0m\u001B[1;33m\u001B[0m\u001B[1;33m\u001B[0m\u001B[0m\n\u001B[1;32m---> 15\u001B[1;33m     \u001B[0mcontour\u001B[0m\u001B[1;33m\u001B[0m\u001B[1;33m\u001B[0m\u001B[0m\n\u001B[0m\u001B[0;32m     16\u001B[0m )\n\u001B[0;32m     17\u001B[0m \u001B[0mprint\u001B[0m\u001B[1;33m(\u001B[0m\u001B[0mtransform\u001B[0m\u001B[1;33m)\u001B[0m\u001B[1;33m\u001B[0m\u001B[1;33m\u001B[0m\u001B[0m\n",
      "\u001B[1;31merror\u001B[0m: OpenCV(4.4.0) C:\\Users\\appveyor\\AppData\\Local\\Temp\\1\\pip-req-build-wbmte9m7\\opencv\\modules\\imgproc\\src\\imgwarp.cpp:3391: error: (-215:Assertion failed) src.checkVector(2, CV_32F) == 4 && dst.checkVector(2, CV_32F) == 4 in function 'cv::getPerspectiveTransform'\n"
     ]
    }
   ],
   "source": [
    "decal_image = cv2.imread(\"../resources/new/decal_0.png\")\n",
    "\n",
    "src = np.float32([\n",
    "            [0,0],\n",
    "            [decal_image.shape[0], 0],\n",
    "            decal_image.shape[:2],\n",
    "            [0, decal_image.shape[1]],\n",
    "          ])\n",
    "\n",
    "print(decal_image.shape)\n",
    "print(src.shape)\n",
    "print(contour.shape)\n",
    "print(contour)\n",
    "transform = cv2.getPerspectiveTransform(\n",
    "    src,\n",
    "    contour\n",
    ")\n",
    "print(transform)\n"
   ],
   "metadata": {
    "collapsed": false,
    "pycharm": {
     "name": "#%%\n"
    }
   }
  }
 ],
 "metadata": {
  "kernelspec": {
   "display_name": "Python 3",
   "language": "python",
   "name": "python3"
  },
  "language_info": {
   "codemirror_mode": {
    "name": "ipython",
    "version": 2
   },
   "file_extension": ".py",
   "mimetype": "text/x-python",
   "name": "python",
   "nbconvert_exporter": "python",
   "pygments_lexer": "ipython2",
   "version": "2.7.6"
  }
 },
 "nbformat": 4,
 "nbformat_minor": 0
}