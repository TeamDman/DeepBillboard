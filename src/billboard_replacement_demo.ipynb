{
 "cells": [
  {
   "cell_type": "code",
   "execution_count": null,
   "outputs": [
    {
     "name": "stdout",
     "output_type": "stream",
     "text": [
      "Found contour with 4 nodes and total area 37642.5\n",
      "Found contour with 4 nodes and total area 37641.5\n",
      "Found contour with 4 nodes and total area 2413.5\n",
      "Found contour with 4 nodes and total area 2406.5\n",
      "Found contour with 8 nodes and total area 100.5\n",
      "Found contour with 8 nodes and total area 100.0\n",
      "Found contour with 12 nodes and total area 16.0\n",
      "Found contour with 11 nodes and total area 13.0\n",
      "Found contour with 6 nodes and total area 10.0\n",
      "Found contour with 8 nodes and total area 10.0\n"
     ]
    }
   ],
   "source": [
    "import billboard_replacement\n",
    "import cv2\n",
    "\n",
    "source_image = cv2.imread(\"../resources/new/015_00010.jpg\")\n",
    "labeled_image = cv2.imread(\"../resources/new/015_00010.png\")\n",
    "decal_image = cv2.imread(\"../resources/new/milk_sip.png\")\n",
    "# decal_image = cv2.imread(\"../resources/new/decal_0.png\")\n",
    "output_image = billboard_replacement.apply_image_to_billboard(\n",
    "    source_image,\n",
    "    labeled_image,\n",
    "    decal_image,\n",
    "    display_steps=False\n",
    ")\n",
    "\n",
    "billboard_replacement.display(output_image)"
   ],
   "metadata": {
    "collapsed": false,
    "pycharm": {
     "name": "#%%\n",
     "is_executing": true
    }
   }
  },
  {
   "cell_type": "code",
   "execution_count": null,
   "outputs": [],
   "source": [],
   "metadata": {
    "collapsed": false,
    "pycharm": {
     "name": "#%%\n"
    }
   }
  }
 ],
 "metadata": {
  "kernelspec": {
   "display_name": "Python 3",
   "language": "python",
   "name": "python3"
  },
  "language_info": {
   "codemirror_mode": {
    "name": "ipython",
    "version": 2
   },
   "file_extension": ".py",
   "mimetype": "text/x-python",
   "name": "python",
   "nbconvert_exporter": "python",
   "pygments_lexer": "ipython2",
   "version": "2.7.6"
  }
 },
 "nbformat": 4,
 "nbformat_minor": 0
}