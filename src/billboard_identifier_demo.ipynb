{
 "cells": [
  {
   "cell_type": "code",
   "execution_count": 3,
   "metadata": {
    "collapsed": true
   },
   "outputs": [],
   "source": [
    "import billboard_identifier\n",
    "import common\n",
    "import cv2\n",
    "import numpy as np"
   ]
  },
  {
   "cell_type": "code",
   "execution_count": 17,
   "outputs": [],
   "source": [
    "import importlib\n",
    "importlib.reload(billboard_identifier)\n",
    "importlib.reload(common)\n",
    "pass"
   ],
   "metadata": {
    "collapsed": false,
    "pycharm": {
     "name": "#%%\n"
    }
   }
  },
  {
   "cell_type": "code",
   "execution_count": 5,
   "outputs": [
    {
     "name": "stdout",
     "output_type": "stream",
     "text": [
      "Found 13367 source images and 13367 label images\n"
     ]
    }
   ],
   "source": [
    "source_images, \\\n",
    "label_images = billboard_identifier.get_files_from_playing_for_benchmarks(\n",
    "    \"E:\\\\research\\\\train_img_00-77_0_jpg\",\n",
    "    \"E:\\\\research\\\\train_cls_00-77_0\"\n",
    ")\n",
    "\n",
    "print(f\"Found {len(source_images)} source images and {len(label_images)} label images\")"
   ],
   "metadata": {
    "collapsed": false,
    "pycharm": {
     "name": "#%%\n"
    }
   }
  },
  {
   "cell_type": "code",
   "execution_count": 18,
   "outputs": [
    {
     "name": "stdout",
     "output_type": "stream",
     "text": [
      "[100/13367 (0.7%)] Found 98(+98 | 0.7%) billboards so far.\n",
      "[200/13367 (1.5%)] Found 186(+88 | 1.4%) billboards so far.\n",
      "[300/13367 (2.2%)] Found 229(+43 | 1.7%) billboards so far.\n",
      "[400/13367 (3.0%)] Found 296(+67 | 2.2%) billboards so far.\n",
      "[500/13367 (3.7%)] Found 362(+66 | 2.7%) billboards so far.\n",
      "[600/13367 (4.5%)] Found 417(+55 | 3.1%) billboards so far.\n",
      "[700/13367 (5.2%)] Found 420(+3 | 3.1%) billboards so far.\n",
      "[800/13367 (6.0%)] Found 430(+10 | 3.2%) billboards so far.\n",
      "[900/13367 (6.7%)] Found 519(+89 | 3.9%) billboards so far.\n",
      "[1000/13367 (7.5%)] Found 582(+63 | 4.4%) billboards so far.\n",
      "[1100/13367 (8.2%)] Found 588(+6 | 4.4%) billboards so far.\n",
      "[1200/13367 (9.0%)] Found 588(+0 | 4.4%) billboards so far.\n",
      "[1300/13367 (9.7%)] Found 588(+0 | 4.4%) billboards so far.\n",
      "[1400/13367 (10.5%)] Found 598(+10 | 4.5%) billboards so far.\n",
      "[1500/13367 (11.2%)] Found 607(+9 | 4.5%) billboards so far.\n",
      "[1600/13367 (12.0%)] Found 646(+39 | 4.8%) billboards so far.\n",
      "[1700/13367 (12.7%)] Found 721(+75 | 5.4%) billboards so far.\n",
      "[1800/13367 (13.5%)] Found 817(+96 | 6.1%) billboards so far.\n",
      "[1900/13367 (14.2%)] Found 907(+90 | 6.8%) billboards so far.\n",
      "[2000/13367 (15.0%)] Found 997(+90 | 7.5%) billboards so far.\n",
      "[2100/13367 (15.7%)] Found 1026(+29 | 7.7%) billboards so far.\n",
      "[2200/13367 (16.5%)] Found 1082(+56 | 8.1%) billboards so far.\n",
      "[2300/13367 (17.2%)] Found 1117(+35 | 8.4%) billboards so far.\n",
      "[2400/13367 (18.0%)] Found 1168(+51 | 8.7%) billboards so far.\n",
      "[2500/13367 (18.7%)] Found 1245(+77 | 9.3%) billboards so far.\n",
      "[2600/13367 (19.5%)] Found 1306(+61 | 9.8%) billboards so far.\n",
      "[2700/13367 (20.2%)] Found 1306(+0 | 9.8%) billboards so far.\n",
      "[2800/13367 (20.9%)] Found 1314(+8 | 9.8%) billboards so far.\n",
      "[2900/13367 (21.7%)] Found 1398(+84 | 10.5%) billboards so far.\n",
      "[3000/13367 (22.4%)] Found 1466(+68 | 11.0%) billboards so far.\n",
      "[3100/13367 (23.2%)] Found 1476(+10 | 11.0%) billboards so far.\n",
      "[3200/13367 (23.9%)] Found 1541(+65 | 11.5%) billboards so far.\n",
      "[3300/13367 (24.7%)] Found 1627(+86 | 12.2%) billboards so far.\n",
      "[3400/13367 (25.4%)] Found 1692(+65 | 12.7%) billboards so far.\n",
      "[3500/13367 (26.2%)] Found 1752(+60 | 13.1%) billboards so far.\n",
      "[3600/13367 (26.9%)] Found 1852(+100 | 13.9%) billboards so far.\n",
      "[3700/13367 (27.7%)] Found 1913(+61 | 14.3%) billboards so far.\n",
      "[3800/13367 (28.4%)] Found 1996(+83 | 14.9%) billboards so far.\n",
      "[3900/13367 (29.2%)] Found 2091(+95 | 15.6%) billboards so far.\n",
      "[4000/13367 (29.9%)] Found 2144(+53 | 16.0%) billboards so far.\n",
      "[4100/13367 (30.7%)] Found 2240(+96 | 16.8%) billboards so far.\n",
      "[4200/13367 (31.4%)] Found 2334(+94 | 17.5%) billboards so far.\n",
      "[4300/13367 (32.2%)] Found 2420(+86 | 18.1%) billboards so far.\n",
      "[4400/13367 (32.9%)] Found 2487(+67 | 18.6%) billboards so far.\n",
      "[4500/13367 (33.7%)] Found 2521(+34 | 18.9%) billboards so far.\n",
      "[4600/13367 (34.4%)] Found 2562(+41 | 19.2%) billboards so far.\n",
      "[4700/13367 (35.2%)] Found 2577(+15 | 19.3%) billboards so far.\n",
      "[4800/13367 (35.9%)] Found 2632(+55 | 19.7%) billboards so far.\n",
      "[4900/13367 (36.7%)] Found 2696(+64 | 20.2%) billboards so far.\n",
      "[5000/13367 (37.4%)] Found 2774(+78 | 20.8%) billboards so far.\n",
      "[5100/13367 (38.2%)] Found 2854(+80 | 21.4%) billboards so far.\n",
      "[5200/13367 (38.9%)] Found 2928(+74 | 21.9%) billboards so far.\n",
      "[5300/13367 (39.6%)] Found 2936(+8 | 22.0%) billboards so far.\n",
      "[5400/13367 (40.4%)] Found 2944(+8 | 22.0%) billboards so far.\n",
      "[5500/13367 (41.1%)] Found 2944(+0 | 22.0%) billboards so far.\n",
      "[5600/13367 (41.9%)] Found 2955(+11 | 22.1%) billboards so far.\n",
      "[5700/13367 (42.6%)] Found 3018(+63 | 22.6%) billboards so far.\n",
      "[5800/13367 (43.4%)] Found 3089(+71 | 23.1%) billboards so far.\n",
      "[5900/13367 (44.1%)] Found 3138(+49 | 23.5%) billboards so far.\n",
      "[6000/13367 (44.9%)] Found 3164(+26 | 23.7%) billboards so far.\n",
      "[6100/13367 (45.6%)] Found 3219(+55 | 24.1%) billboards so far.\n",
      "[6200/13367 (46.4%)] Found 3310(+91 | 24.8%) billboards so far.\n",
      "[6300/13367 (47.1%)] Found 3398(+88 | 25.4%) billboards so far.\n",
      "[6400/13367 (47.9%)] Found 3464(+66 | 25.9%) billboards so far.\n",
      "[6500/13367 (48.6%)] Found 3525(+61 | 26.4%) billboards so far.\n",
      "[6600/13367 (49.4%)] Found 3601(+76 | 26.9%) billboards so far.\n",
      "[6700/13367 (50.1%)] Found 3601(+0 | 26.9%) billboards so far.\n",
      "[6800/13367 (50.9%)] Found 3601(+0 | 26.9%) billboards so far.\n",
      "[6900/13367 (51.6%)] Found 3654(+53 | 27.3%) billboards so far.\n",
      "[7000/13367 (52.4%)] Found 3687(+33 | 27.6%) billboards so far.\n",
      "[7100/13367 (53.1%)] Found 3703(+16 | 27.7%) billboards so far.\n",
      "[7200/13367 (53.9%)] Found 3720(+17 | 27.8%) billboards so far.\n",
      "[7300/13367 (54.6%)] Found 3754(+34 | 28.1%) billboards so far.\n",
      "[7400/13367 (55.4%)] Found 3783(+29 | 28.3%) billboards so far.\n",
      "[7500/13367 (56.1%)] Found 3875(+92 | 29.0%) billboards so far.\n",
      "[7600/13367 (56.9%)] Found 3951(+76 | 29.6%) billboards so far.\n",
      "[7700/13367 (57.6%)] Found 4004(+53 | 30.0%) billboards so far.\n",
      "[7800/13367 (58.4%)] Found 4061(+57 | 30.4%) billboards so far.\n",
      "[7900/13367 (59.1%)] Found 4061(+0 | 30.4%) billboards so far.\n",
      "[8000/13367 (59.8%)] Found 4064(+3 | 30.4%) billboards so far.\n",
      "[8100/13367 (60.6%)] Found 4064(+0 | 30.4%) billboards so far.\n",
      "[8200/13367 (61.3%)] Found 4082(+18 | 30.5%) billboards so far.\n",
      "[8300/13367 (62.1%)] Found 4140(+58 | 31.0%) billboards so far.\n",
      "[8400/13367 (62.8%)] Found 4189(+49 | 31.3%) billboards so far.\n",
      "[8500/13367 (63.6%)] Found 4247(+58 | 31.8%) billboards so far.\n",
      "[8600/13367 (64.3%)] Found 4250(+3 | 31.8%) billboards so far.\n",
      "[8700/13367 (65.1%)] Found 4272(+22 | 32.0%) billboards so far.\n",
      "[8800/13367 (65.8%)] Found 4295(+23 | 32.1%) billboards so far.\n",
      "[8900/13367 (66.6%)] Found 4370(+75 | 32.7%) billboards so far.\n",
      "[9000/13367 (67.3%)] Found 4436(+66 | 33.2%) billboards so far.\n",
      "[9100/13367 (68.1%)] Found 4528(+92 | 33.9%) billboards so far.\n",
      "[9200/13367 (68.8%)] Found 4588(+60 | 34.3%) billboards so far.\n",
      "[9300/13367 (69.6%)] Found 4659(+71 | 34.9%) billboards so far.\n",
      "[9400/13367 (70.3%)] Found 4718(+59 | 35.3%) billboards so far.\n",
      "[9500/13367 (71.1%)] Found 4772(+54 | 35.7%) billboards so far.\n",
      "[9600/13367 (71.8%)] Found 4865(+93 | 36.4%) billboards so far.\n",
      "[9700/13367 (72.6%)] Found 4961(+96 | 37.1%) billboards so far.\n",
      "[9800/13367 (73.3%)] Found 5061(+100 | 37.9%) billboards so far.\n",
      "[9900/13367 (74.1%)] Found 5113(+52 | 38.3%) billboards so far.\n",
      "[10000/13367 (74.8%)] Found 5204(+91 | 38.9%) billboards so far.\n",
      "[10100/13367 (75.6%)] Found 5303(+99 | 39.7%) billboards so far.\n",
      "[10200/13367 (76.3%)] Found 5392(+89 | 40.3%) billboards so far.\n",
      "[10300/13367 (77.1%)] Found 5392(+0 | 40.3%) billboards so far.\n",
      "[10400/13367 (77.8%)] Found 5398(+6 | 40.4%) billboards so far.\n",
      "[10500/13367 (78.6%)] Found 5409(+11 | 40.5%) billboards so far.\n",
      "[10600/13367 (79.3%)] Found 5484(+75 | 41.0%) billboards so far.\n",
      "[10700/13367 (80.0%)] Found 5573(+89 | 41.7%) billboards so far.\n",
      "[10800/13367 (80.8%)] Found 5671(+98 | 42.4%) billboards so far.\n",
      "[10900/13367 (81.5%)] Found 5733(+62 | 42.9%) billboards so far.\n",
      "[11000/13367 (82.3%)] Found 5830(+97 | 43.6%) billboards so far.\n",
      "[11100/13367 (83.0%)] Found 5921(+91 | 44.3%) billboards so far.\n",
      "[11200/13367 (83.8%)] Found 6020(+99 | 45.0%) billboards so far.\n",
      "[11300/13367 (84.5%)] Found 6073(+53 | 45.4%) billboards so far.\n",
      "[11400/13367 (85.3%)] Found 6147(+74 | 46.0%) billboards so far.\n",
      "[11500/13367 (86.0%)] Found 6222(+75 | 46.5%) billboards so far.\n",
      "[11600/13367 (86.8%)] Found 6287(+65 | 47.0%) billboards so far.\n",
      "[11700/13367 (87.5%)] Found 6348(+61 | 47.5%) billboards so far.\n",
      "[11800/13367 (88.3%)] Found 6433(+85 | 48.1%) billboards so far.\n",
      "[11900/13367 (89.0%)] Found 6518(+85 | 48.8%) billboards so far.\n",
      "[12000/13367 (89.8%)] Found 6560(+42 | 49.1%) billboards so far.\n",
      "[12100/13367 (90.5%)] Found 6592(+32 | 49.3%) billboards so far.\n",
      "[12200/13367 (91.3%)] Found 6599(+7 | 49.4%) billboards so far.\n",
      "[12300/13367 (92.0%)] Found 6672(+73 | 49.9%) billboards so far.\n",
      "[12400/13367 (92.8%)] Found 6705(+33 | 50.2%) billboards so far.\n",
      "[12500/13367 (93.5%)] Found 6770(+65 | 50.6%) billboards so far.\n",
      "[12600/13367 (94.3%)] Found 6869(+99 | 51.4%) billboards so far.\n",
      "[12700/13367 (95.0%)] Found 6953(+84 | 52.0%) billboards so far.\n",
      "[12800/13367 (95.8%)] Found 7008(+55 | 52.4%) billboards so far.\n",
      "[12900/13367 (96.5%)] Found 7082(+74 | 53.0%) billboards so far.\n",
      "[13000/13367 (97.3%)] Found 7179(+97 | 53.7%) billboards so far.\n",
      "[13100/13367 (98.0%)] Found 7278(+99 | 54.4%) billboards so far.\n",
      "[13200/13367 (98.8%)] Found 7302(+24 | 54.6%) billboards so far.\n",
      "[13300/13367 (99.5%)] Found 7334(+32 | 54.9%) billboards so far.\n"
     ]
    }
   ],
   "source": [
    "billboard_source_images, \\\n",
    "billboard_label_images = billboard_identifier.identify_images_containing_billboards(\n",
    "    source_images,\n",
    "    label_images,\n",
    "    save_file_path=\"../resources/billboard_images.json\",\n",
    "    batch_size=100\n",
    ")\n",
    "\n",
    "# label_image = cv2.imread(label_images[23])\n",
    "# common.display_image(label_image)\n",
    "# print(billboard_identifier.image_contains_suitable_billboard(\n",
    "#     label_images[23]\n",
    "# ))"
   ],
   "metadata": {
    "collapsed": false,
    "pycharm": {
     "name": "#%%\n"
    }
   }
  },
  {
   "cell_type": "code",
   "execution_count": 35,
   "outputs": [],
   "source": [],
   "metadata": {
    "collapsed": false,
    "pycharm": {
     "name": "#%%\n"
    }
   }
  }
 ],
 "metadata": {
  "kernelspec": {
   "display_name": "Python 3",
   "language": "python",
   "name": "python3"
  },
  "language_info": {
   "codemirror_mode": {
    "name": "ipython",
    "version": 2
   },
   "file_extension": ".py",
   "mimetype": "text/x-python",
   "name": "python",
   "nbconvert_exporter": "python",
   "pygments_lexer": "ipython2",
   "version": "2.7.6"
  }
 },
 "nbformat": 4,
 "nbformat_minor": 0
}