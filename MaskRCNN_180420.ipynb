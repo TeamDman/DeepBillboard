{
 "nbformat": 4,
 "nbformat_minor": 0,
 "metadata": {
  "colab": {
   "name": "MaskRCNN_180420.ipynb",
   "provenance": [],
   "collapsed_sections": [],
   "include_colab_link": true
  },
  "kernelspec": {
   "name": "python3",
   "language": "python",
   "display_name": "Python 3"
  }
 },
 "cells": [
  {
   "cell_type": "markdown",
   "metadata": {
    "id": "view-in-github",
    "colab_type": "text"
   },
   "source": [
    "<a href=\"https://colab.research.google.com/github/TeamDman/DeepBillboard/blob/master/MaskRCNN_180420.ipynb\" target=\"_parent\"><img src=\"https://colab.research.google.com/assets/colab-badge.svg\" alt=\"Open In Colab\"/></a>"
   ]
  },
  {
   "cell_type": "markdown",
   "metadata": {
    "id": "-y5DC3Xa32o2"
   },
   "source": [
    "Steps to implement Mask R-CNN"
   ]
  },
  {
   "cell_type": "markdown",
   "metadata": {
    "id": "Pc6ivapt34OK"
   },
   "source": [
    "1-Clone reposotory git clone https://github.com/matterport/Mask_RCNN.git\n"
   ]
  },
  {
   "cell_type": "markdown",
   "metadata": {
    "id": "pmpcnViYFokJ"
   },
   "source": [
    "https://github.com/matterport/Mask_RCNN/issues/526; \n",
    "https://github.com/matterport/Mask_RCNN/issues/1797\n",
    "Issues Solved!"
   ]
  },
  {
   "cell_type": "markdown",
   "metadata": {
    "id": "p1KF0U0634Zu"
   },
   "source": [
    "2-Install Dependencies"
   ]
  },
  {
   "cell_type": "code",
   "metadata": {
    "id": "pvGrIDAF8GgI",
    "colab": {
     "base_uri": "https://localhost:8080/"
    },
    "outputId": "5c2e0835-e0cf-4444-9570-f7970e7cdf47"
   },
   "source": [
    "!git clone https://github.com/matterport/Mask_RCNN.git"
   ],
   "execution_count": 1,
   "outputs": [
    {
     "name": "stderr",
     "output_type": "stream",
     "text": [
      "Cloning into 'Mask_RCNN'...\n"
     ]
    }
   ]
  },
  {
   "cell_type": "code",
   "metadata": {
    "id": "4OlJ47fk0o83",
    "colab": {
     "base_uri": "https://localhost:8080/",
     "height": 1000
    },
    "outputId": "ff4c8f81-25e4-4598-aae6-106202516e97",
    "pycharm": {
     "is_executing": true
    }
   },
   "source": [
    "#!pip install imgaug\n",
    "#!pip install Cython\n",
    "!pip install pycocotools\n",
    "#!pip install kaggle\n",
    "!pip install mrcnn\n",
    "#!pip install Pillow==5.3.0\n",
    "#!pip install scikit-image\n",
    "#!pip install tensorflow==1.14.0\n",
    "!pip install tensorflow==1.9.0\n",
    "!pip install keras==2.2.0\n",
    "#!pip install pycocotools\n",
    "print(\"Installed packages\")\n",
    "\n"
   ],
   "execution_count": null,
   "outputs": []
  },
  {
   "cell_type": "markdown",
   "metadata": {
    "id": "frW5S0UH4OJ0"
   },
   "source": [
    "3-Test Installed Dependencies\n"
   ]
  },
  {
   "cell_type": "code",
   "metadata": {
    "id": "FbT-7RhI0Ywf",
    "colab": {
     "base_uri": "https://localhost:8080/",
     "height": 52
    },
    "outputId": "a0c112bf-788e-4c71-d182-79a80b406c6b",
    "pycharm": {
     "is_executing": true
    }
   },
   "source": [
    "import numpy\n",
    "import scipy\n",
    "import PIL\n",
    "import tensorflow\n",
    "import skimage\n",
    "import h5py\n",
    "import IPython\n",
    "import cv2\n",
    "import keras\n",
    "import scipy\n",
    "import matplotlib\n",
    "import cython\n",
    "\n",
    "print(\"All dependencies are installed\")"
   ],
   "execution_count": null,
   "outputs": []
  },
  {
   "cell_type": "code",
   "metadata": {
    "id": "8lYPjmPkI3ip"
   },
   "source": [
    ""
   ],
   "execution_count": 3,
   "outputs": []
  },
  {
   "cell_type": "code",
   "metadata": {
    "id": "OlqjmowtJGwU"
   },
   "source": [
    "import os\n",
    "os.chdir('/content/Mask_RCNN/samples')"
   ],
   "execution_count": 4,
   "outputs": [
    {
     "ename": "FileNotFoundError",
     "evalue": "[WinError 3] The system cannot find the path specified: '/content/Mask_RCNN/samples'",
     "output_type": "error",
     "traceback": [
      "\u001B[1;31m---------------------------------------------------------------------------\u001B[0m",
      "\u001B[1;31mFileNotFoundError\u001B[0m                         Traceback (most recent call last)",
      "\u001B[1;32m<ipython-input-4-c1c3a9c19244>\u001B[0m in \u001B[0;36m<module>\u001B[1;34m\u001B[0m\n\u001B[0;32m      1\u001B[0m \u001B[1;32mimport\u001B[0m \u001B[0mos\u001B[0m\u001B[1;33m\u001B[0m\u001B[1;33m\u001B[0m\u001B[0m\n\u001B[1;32m----> 2\u001B[1;33m \u001B[0mos\u001B[0m\u001B[1;33m.\u001B[0m\u001B[0mchdir\u001B[0m\u001B[1;33m(\u001B[0m\u001B[1;34m'/content/Mask_RCNN/samples'\u001B[0m\u001B[1;33m)\u001B[0m\u001B[1;33m\u001B[0m\u001B[1;33m\u001B[0m\u001B[0m\n\u001B[0m\u001B[0;32m      3\u001B[0m \u001B[1;33m\u001B[0m\u001B[0m\n",
      "\u001B[1;31mFileNotFoundError\u001B[0m: [WinError 3] The system cannot find the path specified: '/content/Mask_RCNN/samples'"
     ]
    }
   ]
  },
  {
   "cell_type": "code",
   "metadata": {
    "id": "StXX9MFsSBqk",
    "colab": {
     "base_uri": "https://localhost:8080/"
    },
    "outputId": "933a9242-4fad-415c-bdb0-2de2cf509f03"
   },
   "source": [
    "#import os\n",
    "import sys\n",
    "import random\n",
    "import math\n",
    "import numpy as np\n",
    "import skimage.io\n",
    "import matplotlib\n",
    "import matplotlib.pyplot as plt\n",
    "from pycocotools.coco import COCO\n",
    "from mrcnn.config import Config\n",
    "\n",
    "#import tensorflow.compat.v1 as tf\n",
    "#tf.disable_v2_behavior()\n",
    "\n",
    "# Root directory of the project\n",
    "ROOT_DIR = os.path.abspath(\"../\")\n",
    "\n",
    "\n",
    "import warnings\n",
    "warnings.filterwarnings(\"ignore\")\n",
    "\n",
    " #Import Mask RCNN\n",
    "sys.path.append(ROOT_DIR)  # To find local version of the library\n",
    "from mrcnn import utils\n",
    "import mrcnn.model as modellib\n",
    "from mrcnn import visualize\n",
    " #Import COCO config\n",
    "sys.path.append(os.path.join(ROOT_DIR, \"samples/coco/\"))  # To find local version\n",
    "import coco\n",
    "\n",
    "\n",
    "\n",
    "%matplotlib inline"
   ],
   "execution_count": null,
   "outputs": []
  },
  {
   "cell_type": "code",
   "metadata": {
    "id": "L-o73_PbqzDP",
    "colab": {
     "base_uri": "https://localhost:8080/"
    },
    "outputId": "ce61a300-cfab-412b-f253-bc29bc2d65f7"
   },
   "source": [
    "# Directory to save logs and trained model\n",
    "MODEL_DIR = os.path.join(ROOT_DIR, \"logs\")\n",
    "\n",
    "# Local path to trained weights file\n",
    "COCO_MODEL_PATH = os.path.join('', \"mask_rcnn_coco.h5\")\n",
    "\n",
    "# Download COCO trained weights from Releases if needed\n",
    "if not os.path.exists(COCO_MODEL_PATH):\n",
    "    utils.download_trained_weights(COCO_MODEL_PATH)\n",
    "\n",
    "# Directory of images to run detection on\n",
    "IMAGE_DIR = os.path.join(ROOT_DIR, \"images\")"
   ],
   "execution_count": null,
   "outputs": []
  },
  {
   "cell_type": "code",
   "metadata": {
    "id": "LAGw0ao_rFpE",
    "colab": {
     "base_uri": "https://localhost:8080/"
    },
    "outputId": "8f0769f2-2e28-4cd3-f292-dc903c244a1b"
   },
   "source": [
    "class InferenceConfig(coco.CocoConfig):\n",
    "  #class InferenceConfig(coco.CocoConfig):\n",
    "    # Set batch size to 1 since we'll be running inference on\n",
    "    # one image at a time. Batch size = GPU_COUNT * IMAGES_PER_GPU\n",
    "    GPU_COUNT = 1\n",
    "    IMAGES_PER_GPU = 1\n",
    "\n",
    "config = InferenceConfig()\n",
    "config.display()"
   ],
   "execution_count": null,
   "outputs": []
  },
  {
   "cell_type": "code",
   "metadata": {
    "id": "fE_uXWEew-H3"
   },
   "source": [
    "model = modellib.MaskRCNN(mode=\"inference\", config=config, model_dir=ROOT_DIR)\n",
    "# Load weights trained on MS-COCO\n"
   ],
   "execution_count": null,
   "outputs": []
  },
  {
   "cell_type": "code",
   "metadata": {
    "id": "NqHKV0erOfEm"
   },
   "source": [
    "from keras.engine import saving\n",
    "model.load_weights(COCO_MODEL_PATH, by_name=True)"
   ],
   "execution_count": null,
   "outputs": []
  },
  {
   "cell_type": "code",
   "metadata": {
    "id": "rlOPS2O_Ocbq"
   },
   "source": [
    "# COCO Class names\n",
    "# Index of the class in the list is its ID. For example, to get ID of\n",
    "# the teddy bear class, use: class_names.index('teddy bear')\n",
    "class_names = ['BG', 'person', 'bicycle', 'car', 'motorcycle', 'airplane',\n",
    "               'bus', 'train', 'truck', 'boat', 'traffic light',\n",
    "               'fire hydrant', 'stop sign', 'parking meter', 'bench', 'bird',\n",
    "               'cat', 'dog', 'horse', 'sheep', 'cow', 'elephant', 'bear',\n",
    "               'zebra', 'giraffe', 'backpack', 'umbrella', 'handbag', 'tie',\n",
    "               'suitcase', 'frisbee', 'skis', 'snowboard', 'sports ball',\n",
    "               'kite', 'baseball bat', 'baseball glove', 'skateboard',\n",
    "               'surfboard', 'tennis racket', 'bottle', 'wine glass', 'cup',\n",
    "               'fork', 'knife', 'spoon', 'bowl', 'banana', 'apple',\n",
    "               'sandwich', 'orange', 'broccoli', 'carrot', 'hot dog', 'pizza',\n",
    "               'donut', 'cake', 'chair', 'couch', 'potted plant', 'bed',\n",
    "               'dining table', 'toilet', 'tv', 'laptop', 'mouse', 'remote',\n",
    "               'keyboard', 'cell phone', 'microwave', 'oven', 'toaster',\n",
    "               'sink', 'refrigerator', 'book', 'clock', 'vase', 'scissors',\n",
    "               'teddy bear', 'hair drier', 'toothbrush']"
   ],
   "execution_count": null,
   "outputs": []
  },
  {
   "cell_type": "code",
   "metadata": {
    "id": "Z7qiZx_oRiu6",
    "colab": {
     "base_uri": "https://localhost:8080/",
     "height": 711
    },
    "outputId": "04455a32-01ba-4c32-da42-6e07a79aaabc"
   },
   "source": [
    "# Load a random image from the images folder\n",
    "file_names = next(os.walk(IMAGE_DIR))[2]\n",
    "image = skimage.io.imread(os.path.join(IMAGE_DIR, random.choice(file_names)))\n",
    "\n",
    "# Run detection\n",
    "results = model.detect([image], verbose=1)\n",
    "\n",
    "# Visualize results\n",
    "r = results[0]\n",
    "visualize.display_instances(image, r['rois'], r['masks'], r['class_ids'], \n",
    "                            class_names, r['scores'])"
   ],
   "execution_count": null,
   "outputs": []
  },
  {
   "cell_type": "code",
   "metadata": {
    "id": "E_KKn1jq34lz"
   },
   "source": [
    ""
   ],
   "execution_count": null,
   "outputs": []
  }
 ]
}