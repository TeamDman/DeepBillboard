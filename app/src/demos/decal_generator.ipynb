{
 "cells": [
  {
   "cell_type": "code",
   "execution_count": 7,
   "metadata": {
    "collapsed": true
   },
   "outputs": [],
   "source": [
    "import common\n",
    "import training\n",
    "import pathlib\n",
    "from input_reader import get_input_images\n",
    "from imageio import imwrite as imsave"
   ]
  },
  {
   "cell_type": "code",
   "execution_count": 4,
   "outputs": [
    {
     "name": "stderr",
     "output_type": "stream",
     "text": [
      "INFO:input_reader:Found 34 images\n",
      "WARNING:tensorflow:From d:\\virtualenvs\\deepbillboard\\lib\\site-packages\\tensorflow\\python\\keras\\engine\\training_v1.py:2070: Model.state_updates (from tensorflow.python.keras.engine.training) is deprecated and will be removed in a future version.\n",
      "Instructions for updating:\n",
      "This property should not be used in TensorFlow 2.0, as updates are applied automatically.\n"
     ]
    },
    {
     "name": "stdout",
     "output_type": "stream",
     "text": [
      "\u001B[92mModel compiled\u001B[0m\n",
      "WARNING:tensorflow:From d:\\virtualenvs\\deepbillboard\\lib\\site-packages\\tensorflow\\python\\keras\\engine\\training_v1.py:2070: Model.state_updates (from tensorflow.python.keras.engine.training) is deprecated and will be removed in a future version.\n",
      "Instructions for updating:\n",
      "This property should not be used in TensorFlow 2.0, as updates are applied automatically.\n"
     ]
    }
   ],
   "source": [
    "common.setup()\n",
    "\n",
    "model, \\\n",
    "iterate = common.get_model(target_model=0, direction=\"left\", weight_diff=1)\n",
    "\n",
    "images, \\\n",
    "image_size, \\\n",
    "start_points, \\\n",
    "occl_sizes = get_input_images(\"../../resources/digital_Dave_curve1/\", \"jpg\")\n",
    "\n",
    "angle_labels = common.get_predictions(model, images)"
   ],
   "metadata": {
    "collapsed": false,
    "pycharm": {
     "name": "#%%\n"
    }
   }
  },
  {
   "cell_type": "code",
   "execution_count": null,
   "outputs": [
    {
     "name": "stderr",
     "output_type": "stream",
     "text": [
      "INFO:common:iteration 0. diff between raw and adversarial [9.502303]. change time is 7. bad_change_times, 0\n",
      "INFO:common:iteration 5. diff between raw and adversarial [23.437082]. change time is 2. bad_change_times, 2\n",
      "INFO:common:iteration 10. diff between raw and adversarial [28.284101]. change time is 3. bad_change_times, 1\n",
      "INFO:common:iteration 15. diff between raw and adversarial [30.03256]. change time is 4. bad_change_times, 1\n",
      "INFO:common:iteration 20. diff between raw and adversarial [31.353493]. change time is 4. bad_change_times, 0\n",
      "INFO:common:Generating substitutes\n",
      "INFO:common:iteration 0. diff between raw and adversarial [8.980355]. change time is 6. bad_change_times, 1\n",
      "INFO:common:iteration 5. diff between raw and adversarial [21.975983]. change time is 3. bad_change_times, 0\n",
      "INFO:common:iteration 10. diff between raw and adversarial [26.289337]. change time is 3. bad_change_times, 0\n",
      "INFO:common:iteration 15. diff between raw and adversarial [28.261982]. change time is 3. bad_change_times, 0\n",
      "INFO:common:iteration 20. diff between raw and adversarial [28.942308]. change time is 3. bad_change_times, 0\n",
      "INFO:common:Generating substitutes\n",
      "INFO:common:iteration 0. diff between raw and adversarial [8.7312355]. change time is 7. bad_change_times, 0\n",
      "INFO:common:iteration 5. diff between raw and adversarial [20.733065]. change time is 4. bad_change_times, 0\n",
      "INFO:common:iteration 10. diff between raw and adversarial [25.8309]. change time is 4. bad_change_times, 0\n",
      "INFO:common:iteration 15. diff between raw and adversarial [26.784874]. change time is 1. bad_change_times, 0\n",
      "INFO:common:iteration 20. diff between raw and adversarial [28.683052]. change time is 4. bad_change_times, 0\n",
      "INFO:common:Generating substitutes\n",
      "INFO:common:iteration 0. diff between raw and adversarial [9.272203]. change time is 6. bad_change_times, 1\n",
      "INFO:common:iteration 5. diff between raw and adversarial [21.52097]. change time is 3. bad_change_times, 1\n",
      "INFO:common:iteration 10. diff between raw and adversarial [24.695557]. change time is 2. bad_change_times, 0\n",
      "INFO:common:iteration 15. diff between raw and adversarial [27.12917]. change time is 5. bad_change_times, 0\n",
      "INFO:common:iteration 20. diff between raw and adversarial [27.590647]. change time is 1. bad_change_times, 0\n",
      "INFO:common:Generating substitutes\n",
      "INFO:common:iteration 0. diff between raw and adversarial [9.073382]. change time is 7. bad_change_times, 0\n",
      "INFO:common:iteration 5. diff between raw and adversarial [21.346045]. change time is 4. bad_change_times, 1\n",
      "INFO:common:iteration 10. diff between raw and adversarial [23.470385]. change time is 2. bad_change_times, 0\n",
      "INFO:common:iteration 15. diff between raw and adversarial [24.22852]. change time is 3. bad_change_times, 0\n",
      "INFO:common:iteration 20. diff between raw and adversarial [26.823484]. change time is 3. bad_change_times, 0\n",
      "INFO:common:Generating substitutes\n",
      "INFO:common:iteration 0. diff between raw and adversarial [8.961858]. change time is 6. bad_change_times, 1\n",
      "INFO:common:iteration 5. diff between raw and adversarial [22.040981]. change time is 5. bad_change_times, 0\n",
      "INFO:common:iteration 10. diff between raw and adversarial [27.127718]. change time is 5. bad_change_times, 0\n",
      "INFO:common:iteration 15. diff between raw and adversarial [28.878149]. change time is 0. bad_change_times, 0\n",
      "INFO:common:iteration 20. diff between raw and adversarial [29.754545]. change time is 3. bad_change_times, 0\n",
      "INFO:common:Generating substitutes\n",
      "INFO:common:iteration 0. diff between raw and adversarial [9.388715]. change time is 7. bad_change_times, 0\n",
      "INFO:common:iteration 5. diff between raw and adversarial [21.000216]. change time is 7. bad_change_times, 0\n",
      "INFO:common:iteration 10. diff between raw and adversarial [24.596567]. change time is 3. bad_change_times, 1\n",
      "INFO:common:iteration 15. diff between raw and adversarial [26.625456]. change time is 4. bad_change_times, 0\n",
      "INFO:common:iteration 20. diff between raw and adversarial [27.53364]. change time is 0. bad_change_times, 0\n",
      "INFO:common:Generating substitutes\n",
      "INFO:common:iteration 0. diff between raw and adversarial [11.021433]. change time is 6. bad_change_times, 0\n",
      "INFO:common:iteration 5. diff between raw and adversarial [25.854511]. change time is 6. bad_change_times, 0\n",
      "INFO:common:iteration 10. diff between raw and adversarial [29.267767]. change time is 3. bad_change_times, 1\n",
      "INFO:common:iteration 15. diff between raw and adversarial [30.383183]. change time is 0. bad_change_times, 1\n",
      "INFO:common:iteration 20. diff between raw and adversarial [32.105446]. change time is 2. bad_change_times, 1\n",
      "INFO:common:Generating substitutes\n",
      "INFO:common:iteration 0. diff between raw and adversarial [9.218903]. change time is 7. bad_change_times, 0\n",
      "INFO:common:iteration 5. diff between raw and adversarial [21.151846]. change time is 5. bad_change_times, 0\n",
      "INFO:common:iteration 10. diff between raw and adversarial [25.339828]. change time is 4. bad_change_times, 0\n",
      "INFO:common:iteration 15. diff between raw and adversarial [26.939463]. change time is 3. bad_change_times, 0\n",
      "INFO:common:iteration 20. diff between raw and adversarial [27.478897]. change time is 0. bad_change_times, 0\n",
      "INFO:common:Generating substitutes\n",
      "INFO:common:iteration 0. diff between raw and adversarial [10.212419]. change time is 6. bad_change_times, 0\n",
      "INFO:common:iteration 5. diff between raw and adversarial [27.851213]. change time is 7. bad_change_times, 0\n",
      "INFO:common:iteration 10. diff between raw and adversarial [31.11254]. change time is 4. bad_change_times, 0\n",
      "INFO:common:iteration 15. diff between raw and adversarial [32.7792]. change time is 0. bad_change_times, 0\n",
      "INFO:common:iteration 20. diff between raw and adversarial [33.31829]. change time is 0. bad_change_times, 0\n",
      "INFO:common:Generating substitutes\n",
      "INFO:common:iteration 0. diff between raw and adversarial [8.749042]. change time is 7. bad_change_times, 0\n",
      "INFO:common:iteration 5. diff between raw and adversarial [21.996529]. change time is 6. bad_change_times, 1\n",
      "INFO:common:iteration 10. diff between raw and adversarial [27.07295]. change time is 5. bad_change_times, 0\n",
      "INFO:common:iteration 15. diff between raw and adversarial [29.452759]. change time is 5. bad_change_times, 0\n",
      "INFO:common:iteration 20. diff between raw and adversarial [30.80611]. change time is 2. bad_change_times, 2\n",
      "INFO:common:Generating substitutes\n",
      "INFO:common:iteration 0. diff between raw and adversarial [9.843289]. change time is 7. bad_change_times, 0\n",
      "INFO:common:iteration 5. diff between raw and adversarial [23.062826]. change time is 6. bad_change_times, 0\n",
      "INFO:common:iteration 10. diff between raw and adversarial [27.884653]. change time is 2. bad_change_times, 3\n",
      "INFO:common:iteration 15. diff between raw and adversarial [29.123127]. change time is 0. bad_change_times, 0\n",
      "INFO:common:iteration 20. diff between raw and adversarial [30.341387]. change time is 1. bad_change_times, 0\n",
      "INFO:common:Generating substitutes\n",
      "INFO:common:iteration 0. diff between raw and adversarial [9.734013]. change time is 7. bad_change_times, 0\n",
      "INFO:common:iteration 5. diff between raw and adversarial [21.194645]. change time is 3. bad_change_times, 0\n",
      "INFO:common:iteration 10. diff between raw and adversarial [25.123865]. change time is 3. bad_change_times, 1\n",
      "INFO:common:iteration 15. diff between raw and adversarial [27.163813]. change time is 2. bad_change_times, 0\n",
      "INFO:common:iteration 20. diff between raw and adversarial [29.482471]. change time is 2. bad_change_times, 1\n",
      "INFO:common:Generating substitutes\n",
      "INFO:common:iteration 0. diff between raw and adversarial [9.721083]. change time is 7. bad_change_times, 0\n",
      "INFO:common:iteration 5. diff between raw and adversarial [21.025494]. change time is 4. bad_change_times, 0\n",
      "INFO:common:iteration 10. diff between raw and adversarial [23.222685]. change time is 0. bad_change_times, 0\n",
      "INFO:common:iteration 15. diff between raw and adversarial [24.508451]. change time is 1. bad_change_times, 0\n",
      "INFO:common:iteration 20. diff between raw and adversarial [25.580988]. change time is 0. bad_change_times, 0\n",
      "INFO:common:Generating substitutes\n",
      "INFO:common:iteration 0. diff between raw and adversarial [8.454579]. change time is 7. bad_change_times, 0\n",
      "INFO:common:iteration 5. diff between raw and adversarial [21.69127]. change time is 6. bad_change_times, 0\n",
      "INFO:common:iteration 10. diff between raw and adversarial [24.03553]. change time is 2. bad_change_times, 0\n",
      "INFO:common:iteration 15. diff between raw and adversarial [26.236628]. change time is 2. bad_change_times, 0\n",
      "INFO:common:iteration 20. diff between raw and adversarial [27.376665]. change time is 2. bad_change_times, 0\n",
      "INFO:common:Generating substitutes\n",
      "INFO:common:iteration 0. diff between raw and adversarial [9.290631]. change time is 7. bad_change_times, 0\n",
      "INFO:common:iteration 5. diff between raw and adversarial [21.38369]. change time is 6. bad_change_times, 0\n",
      "INFO:common:iteration 10. diff between raw and adversarial [24.15803]. change time is 3. bad_change_times, 0\n",
      "INFO:common:iteration 15. diff between raw and adversarial [26.560884]. change time is 1. bad_change_times, 1\n",
      "INFO:common:iteration 20. diff between raw and adversarial [27.65057]. change time is 1. bad_change_times, 0\n",
      "INFO:common:Generating substitutes\n",
      "INFO:common:iteration 0. diff between raw and adversarial [10.867653]. change time is 7. bad_change_times, 0\n",
      "INFO:common:iteration 5. diff between raw and adversarial [25.92149]. change time is 5. bad_change_times, 0\n",
      "INFO:common:iteration 10. diff between raw and adversarial [30.410294]. change time is 2. bad_change_times, 0\n",
      "INFO:common:iteration 15. diff between raw and adversarial [32.860447]. change time is 3. bad_change_times, 0\n",
      "INFO:common:iteration 20. diff between raw and adversarial [33.958183]. change time is 2. bad_change_times, 0\n",
      "INFO:common:Generating substitutes\n",
      "INFO:common:iteration 0. diff between raw and adversarial [8.3423395]. change time is 7. bad_change_times, 0\n",
      "INFO:common:iteration 5. diff between raw and adversarial [22.098778]. change time is 5. bad_change_times, 1\n",
      "INFO:common:iteration 10. diff between raw and adversarial [25.235786]. change time is 5. bad_change_times, 0\n",
      "INFO:common:iteration 15. diff between raw and adversarial [27.51814]. change time is 1. bad_change_times, 1\n",
      "INFO:common:iteration 20. diff between raw and adversarial [28.179598]. change time is 1. bad_change_times, 0\n",
      "INFO:common:Generating substitutes\n",
      "INFO:common:iteration 0. diff between raw and adversarial [8.836785]. change time is 7. bad_change_times, 0\n",
      "INFO:common:iteration 5. diff between raw and adversarial [21.138]. change time is 5. bad_change_times, 0\n",
      "INFO:common:iteration 10. diff between raw and adversarial [24.469793]. change time is 1. bad_change_times, 0\n",
      "INFO:common:iteration 15. diff between raw and adversarial [26.859468]. change time is 5. bad_change_times, 0\n",
      "INFO:common:iteration 20. diff between raw and adversarial [28.268719]. change time is 0. bad_change_times, 0\n",
      "INFO:common:Generating substitutes\n",
      "INFO:common:iteration 0. diff between raw and adversarial [8.720478]. change time is 7. bad_change_times, 0\n",
      "INFO:common:iteration 5. diff between raw and adversarial [22.075315]. change time is 6. bad_change_times, 0\n",
      "INFO:common:iteration 10. diff between raw and adversarial [27.555391]. change time is 3. bad_change_times, 0\n",
      "INFO:common:iteration 15. diff between raw and adversarial [29.000662]. change time is 3. bad_change_times, 1\n",
      "INFO:common:iteration 20. diff between raw and adversarial [31.141855]. change time is 1. bad_change_times, 0\n",
      "INFO:common:Generating substitutes\n"
     ]
    }
   ],
   "source": [
    "pathlib.Path(\"../../out\").mkdir(exist_ok=True)\n",
    "for i in range(0, 100):\n",
    "    decal, output_images, log = training.train(\n",
    "        iterate=iterate,\n",
    "        batch_size=5,\n",
    "        images=images,\n",
    "        optimal=False,\n",
    "        model=model,\n",
    "        gradient_descent_iterations=25,\n",
    "        greedy_strategy=\"dynamic\",\n",
    "        logo_size=common.ImageSize(600, 400),\n",
    "        angle_labels=angle_labels,\n",
    "        percent_fixed_images=1.0,\n",
    "        overlay_strategy=\"sum\",\n",
    "        start_points=start_points,\n",
    "        occl_sizes=occl_sizes,\n",
    "        transformation=\"occl\",\n",
    "        jsma_enabled=False,\n",
    "        jsma_count=5,\n",
    "        gradient_descent_step_size=5,\n",
    "        simulated_annealing_b=0.96,\n",
    "        simulated_annealing_k=30,\n",
    "        simulated_annealing_enabled=True,\n",
    "    )\n",
    "    imsave(f\"../../out/decal_{i}.png\", decal)\n",
    "    for j, img in enumerate(output_images):\n",
    "        imsave(f\"../../out/sub_iter_{i}_img_{j}.png\", img)"
   ],
   "metadata": {
    "collapsed": false,
    "pycharm": {
     "name": "#%%\n",
     "is_executing": true
    }
   }
  }
 ],
 "metadata": {
  "kernelspec": {
   "display_name": "Python 3",
   "language": "python",
   "name": "python3"
  },
  "language_info": {
   "codemirror_mode": {
    "name": "ipython",
    "version": 2
   },
   "file_extension": ".py",
   "mimetype": "text/x-python",
   "name": "python",
   "nbconvert_exporter": "python",
   "pygments_lexer": "ipython2",
   "version": "2.7.6"
  }
 },
 "nbformat": 4,
 "nbformat_minor": 0
}