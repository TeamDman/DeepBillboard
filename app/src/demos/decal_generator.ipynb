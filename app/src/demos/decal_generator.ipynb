{
 "cells": [
  {
   "cell_type": "code",
   "execution_count": 9,
   "metadata": {
    "collapsed": true
   },
   "outputs": [],
   "source": [
    "import common\n",
    "import training\n",
    "import pathlib\n",
    "from input_reader import get_input_images\n",
    "from imageio import imwrite as imsave"
   ]
  },
  {
   "cell_type": "code",
   "execution_count": 10,
   "outputs": [
    {
     "name": "stderr",
     "output_type": "stream",
     "text": [
      "INFO:input_reader:Found 34 images\n"
     ]
    },
    {
     "name": "stdout",
     "output_type": "stream",
     "text": [
      "\u001B[92mModel compiled\u001B[0m\n"
     ]
    }
   ],
   "source": [
    "common.setup()\n",
    "\n",
    "model, \\\n",
    "iterate = common.get_model(target_model=0, direction=\"left\", weight_diff=1)\n",
    "\n",
    "images, \\\n",
    "image_size, \\\n",
    "start_points, \\\n",
    "occl_sizes = get_input_images(\"../../resources/digital_Dave_curve1/\", \"jpg\")\n",
    "\n",
    "angle_labels = common.get_predictions(model, images)"
   ],
   "metadata": {
    "collapsed": false,
    "pycharm": {
     "name": "#%%\n"
    }
   }
  },
  {
   "cell_type": "code",
   "execution_count": null,
   "outputs": [
    {
     "name": "stderr",
     "output_type": "stream",
     "text": [
      "INFO:common:iteration 0. diff between raw and adversarial [10.073585]. change time is 7. bad_change_times, 0\n",
      "INFO:common:iteration 5. diff between raw and adversarial [23.95121]. change time is 4. bad_change_times, 0\n",
      "INFO:common:iteration 10. diff between raw and adversarial [29.469944]. change time is 3. bad_change_times, 0\n",
      "INFO:common:iteration 15. diff between raw and adversarial [31.899986]. change time is 1. bad_change_times, 0\n",
      "INFO:common:iteration 20. diff between raw and adversarial [33.505062]. change time is 1. bad_change_times, 1\n",
      "INFO:common:Generating substitutes\n",
      "INFO:common:iteration 0. diff between raw and adversarial [11.074742]. change time is 7. bad_change_times, 0\n",
      "INFO:common:iteration 5. diff between raw and adversarial [25.202272]. change time is 6. bad_change_times, 0\n",
      "INFO:common:iteration 10. diff between raw and adversarial [30.38031]. change time is 5. bad_change_times, 0\n",
      "INFO:common:iteration 15. diff between raw and adversarial [31.72088]. change time is 0. bad_change_times, 0\n",
      "INFO:common:iteration 20. diff between raw and adversarial [32.757484]. change time is 2. bad_change_times, 0\n",
      "INFO:common:Generating substitutes\n",
      "INFO:common:iteration 0. diff between raw and adversarial [10.95209]. change time is 7. bad_change_times, 0\n",
      "INFO:common:iteration 5. diff between raw and adversarial [22.072783]. change time is 4. bad_change_times, 1\n",
      "INFO:common:iteration 10. diff between raw and adversarial [26.206263]. change time is 3. bad_change_times, 1\n",
      "INFO:common:iteration 15. diff between raw and adversarial [28.064913]. change time is 3. bad_change_times, 1\n",
      "INFO:common:iteration 20. diff between raw and adversarial [30.057207]. change time is 3. bad_change_times, 0\n",
      "INFO:common:Generating substitutes\n",
      "INFO:common:iteration 0. diff between raw and adversarial [10.2283125]. change time is 7. bad_change_times, 0\n",
      "INFO:common:iteration 5. diff between raw and adversarial [26.510447]. change time is 7. bad_change_times, 0\n",
      "INFO:common:iteration 10. diff between raw and adversarial [31.173506]. change time is 5. bad_change_times, 0\n",
      "INFO:common:iteration 15. diff between raw and adversarial [33.145023]. change time is 4. bad_change_times, 0\n",
      "INFO:common:iteration 20. diff between raw and adversarial [33.70174]. change time is 0. bad_change_times, 0\n",
      "INFO:common:Generating substitutes\n",
      "INFO:common:iteration 0. diff between raw and adversarial [8.782496]. change time is 7. bad_change_times, 0\n",
      "INFO:common:iteration 5. diff between raw and adversarial [22.987167]. change time is 5. bad_change_times, 0\n",
      "INFO:common:iteration 10. diff between raw and adversarial [26.521425]. change time is 3. bad_change_times, 1\n",
      "INFO:common:iteration 15. diff between raw and adversarial [28.504875]. change time is 2. bad_change_times, 0\n",
      "INFO:common:iteration 20. diff between raw and adversarial [29.407076]. change time is 1. bad_change_times, 1\n",
      "INFO:common:Generating substitutes\n",
      "INFO:common:iteration 0. diff between raw and adversarial [9.809222]. change time is 7. bad_change_times, 0\n",
      "INFO:common:iteration 5. diff between raw and adversarial [24.90784]. change time is 4. bad_change_times, 2\n",
      "INFO:common:iteration 10. diff between raw and adversarial [29.18805]. change time is 5. bad_change_times, 0\n",
      "INFO:common:iteration 15. diff between raw and adversarial [30.78721]. change time is 3. bad_change_times, 0\n",
      "INFO:common:iteration 20. diff between raw and adversarial [31.476952]. change time is 0. bad_change_times, 0\n",
      "INFO:common:Generating substitutes\n",
      "INFO:common:iteration 0. diff between raw and adversarial [9.989487]. change time is 6. bad_change_times, 1\n",
      "INFO:common:iteration 5. diff between raw and adversarial [21.668447]. change time is 3. bad_change_times, 1\n",
      "INFO:common:iteration 10. diff between raw and adversarial [25.787502]. change time is 2. bad_change_times, 2\n",
      "INFO:common:iteration 15. diff between raw and adversarial [27.32039]. change time is 3. bad_change_times, 0\n",
      "INFO:common:iteration 20. diff between raw and adversarial [28.137787]. change time is 1. bad_change_times, 0\n",
      "INFO:common:Generating substitutes\n",
      "INFO:common:iteration 0. diff between raw and adversarial [10.251847]. change time is 7. bad_change_times, 0\n",
      "INFO:common:iteration 5. diff between raw and adversarial [23.550556]. change time is 6. bad_change_times, 0\n",
      "INFO:common:iteration 10. diff between raw and adversarial [27.972605]. change time is 3. bad_change_times, 1\n",
      "INFO:common:iteration 15. diff between raw and adversarial [30.856958]. change time is 4. bad_change_times, 1\n",
      "INFO:common:iteration 20. diff between raw and adversarial [32.421906]. change time is 2. bad_change_times, 1\n",
      "INFO:common:Generating substitutes\n",
      "INFO:common:iteration 0. diff between raw and adversarial [9.407035]. change time is 7. bad_change_times, 0\n",
      "INFO:common:iteration 5. diff between raw and adversarial [23.62924]. change time is 5. bad_change_times, 1\n",
      "INFO:common:iteration 10. diff between raw and adversarial [28.12553]. change time is 4. bad_change_times, 0\n",
      "INFO:common:iteration 15. diff between raw and adversarial [28.977245]. change time is 0. bad_change_times, 0\n",
      "INFO:common:iteration 20. diff between raw and adversarial [30.287952]. change time is 1. bad_change_times, 1\n",
      "INFO:common:Generating substitutes\n",
      "INFO:common:iteration 0. diff between raw and adversarial [10.195429]. change time is 7. bad_change_times, 0\n",
      "INFO:common:iteration 5. diff between raw and adversarial [24.16379]. change time is 4. bad_change_times, 1\n",
      "INFO:common:iteration 10. diff between raw and adversarial [29.273987]. change time is 1. bad_change_times, 0\n",
      "INFO:common:iteration 15. diff between raw and adversarial [30.194258]. change time is 2. bad_change_times, 0\n",
      "INFO:common:iteration 20. diff between raw and adversarial [31.188807]. change time is 0. bad_change_times, 0\n",
      "INFO:common:Generating substitutes\n",
      "INFO:common:iteration 0. diff between raw and adversarial [8.125638]. change time is 7. bad_change_times, 0\n",
      "INFO:common:iteration 5. diff between raw and adversarial [20.03458]. change time is 3. bad_change_times, 2\n",
      "INFO:common:iteration 10. diff between raw and adversarial [23.845356]. change time is 3. bad_change_times, 1\n",
      "INFO:common:iteration 15. diff between raw and adversarial [25.932783]. change time is 2. bad_change_times, 1\n",
      "INFO:common:iteration 20. diff between raw and adversarial [27.594389]. change time is 4. bad_change_times, 1\n",
      "INFO:common:Generating substitutes\n",
      "INFO:common:iteration 0. diff between raw and adversarial [10.407541]. change time is 7. bad_change_times, 0\n",
      "INFO:common:iteration 5. diff between raw and adversarial [25.590876]. change time is 5. bad_change_times, 1\n",
      "INFO:common:iteration 10. diff between raw and adversarial [30.585615]. change time is 6. bad_change_times, 0\n",
      "INFO:common:iteration 15. diff between raw and adversarial [31.683727]. change time is 2. bad_change_times, 0\n",
      "INFO:common:iteration 20. diff between raw and adversarial [32.430477]. change time is 1. bad_change_times, 0\n",
      "INFO:common:Generating substitutes\n",
      "INFO:common:iteration 0. diff between raw and adversarial [11.193405]. change time is 7. bad_change_times, 0\n",
      "INFO:common:iteration 5. diff between raw and adversarial [22.60732]. change time is 4. bad_change_times, 0\n",
      "INFO:common:iteration 10. diff between raw and adversarial [27.245802]. change time is 6. bad_change_times, 0\n",
      "INFO:common:iteration 15. diff between raw and adversarial [28.999485]. change time is 0. bad_change_times, 0\n",
      "INFO:common:iteration 20. diff between raw and adversarial [30.794075]. change time is 3. bad_change_times, 0\n",
      "INFO:common:Generating substitutes\n",
      "INFO:common:iteration 0. diff between raw and adversarial [8.681201]. change time is 6. bad_change_times, 0\n",
      "INFO:common:iteration 5. diff between raw and adversarial [21.423824]. change time is 6. bad_change_times, 0\n",
      "INFO:common:iteration 10. diff between raw and adversarial [25.167728]. change time is 2. bad_change_times, 2\n",
      "INFO:common:iteration 15. diff between raw and adversarial [26.349152]. change time is 2. bad_change_times, 0\n",
      "INFO:common:iteration 20. diff between raw and adversarial [27.603848]. change time is 3. bad_change_times, 0\n",
      "INFO:common:Generating substitutes\n",
      "INFO:common:iteration 0. diff between raw and adversarial [8.964739]. change time is 7. bad_change_times, 0\n",
      "INFO:common:iteration 5. diff between raw and adversarial [21.83114]. change time is 4. bad_change_times, 1\n",
      "INFO:common:iteration 10. diff between raw and adversarial [26.351946]. change time is 3. bad_change_times, 1\n",
      "INFO:common:iteration 15. diff between raw and adversarial [28.147505]. change time is 3. bad_change_times, 0\n",
      "INFO:common:iteration 20. diff between raw and adversarial [29.115652]. change time is 1. bad_change_times, 0\n",
      "INFO:common:Generating substitutes\n",
      "INFO:common:iteration 0. diff between raw and adversarial [9.603483]. change time is 7. bad_change_times, 0\n",
      "INFO:common:iteration 5. diff between raw and adversarial [22.558405]. change time is 6. bad_change_times, 0\n",
      "INFO:common:iteration 10. diff between raw and adversarial [26.479652]. change time is 2. bad_change_times, 1\n",
      "INFO:common:iteration 15. diff between raw and adversarial [27.956366]. change time is 3. bad_change_times, 0\n",
      "INFO:common:iteration 20. diff between raw and adversarial [29.160051]. change time is 2. bad_change_times, 0\n",
      "INFO:common:Generating substitutes\n",
      "INFO:common:iteration 0. diff between raw and adversarial [11.482756]. change time is 7. bad_change_times, 0\n",
      "INFO:common:iteration 5. diff between raw and adversarial [26.713957]. change time is 5. bad_change_times, 0\n",
      "INFO:common:iteration 10. diff between raw and adversarial [30.843554]. change time is 3. bad_change_times, 1\n",
      "INFO:common:iteration 15. diff between raw and adversarial [32.533974]. change time is 1. bad_change_times, 0\n",
      "INFO:common:iteration 20. diff between raw and adversarial [33.837708]. change time is 3. bad_change_times, 0\n",
      "INFO:common:Generating substitutes\n",
      "INFO:common:iteration 0. diff between raw and adversarial [9.2863035]. change time is 7. bad_change_times, 0\n",
      "INFO:common:iteration 5. diff between raw and adversarial [22.692383]. change time is 7. bad_change_times, 0\n",
      "INFO:common:iteration 10. diff between raw and adversarial [26.59516]. change time is 3. bad_change_times, 0\n",
      "INFO:common:iteration 15. diff between raw and adversarial [27.564972]. change time is 1. bad_change_times, 1\n",
      "INFO:common:iteration 20. diff between raw and adversarial [28.241339]. change time is 2. bad_change_times, 0\n",
      "INFO:common:Generating substitutes\n",
      "INFO:common:iteration 0. diff between raw and adversarial [9.662753]. change time is 7. bad_change_times, 0\n",
      "INFO:common:iteration 5. diff between raw and adversarial [26.66492]. change time is 6. bad_change_times, 0\n",
      "INFO:common:iteration 10. diff between raw and adversarial [28.810513]. change time is 2. bad_change_times, 2\n",
      "INFO:common:iteration 15. diff between raw and adversarial [30.015076]. change time is 2. bad_change_times, 1\n",
      "INFO:common:iteration 20. diff between raw and adversarial [31.53818]. change time is 0. bad_change_times, 0\n",
      "INFO:common:Generating substitutes\n",
      "INFO:common:iteration 0. diff between raw and adversarial [8.899483]. change time is 7. bad_change_times, 0\n"
     ]
    }
   ],
   "source": [
    "pathlib.Path(\"../../out\").mkdir(exist_ok=True)\n",
    "for i in range(0, 400):\n",
    "    decal, output_images, log = training.train(\n",
    "        iterate=iterate,\n",
    "        batch_size=5,\n",
    "        images=images,\n",
    "        optimal=False,\n",
    "        model=model,\n",
    "        gradient_descent_iterations=25,\n",
    "        greedy_strategy=\"dynamic\",\n",
    "        logo_size=common.ImageSize(600, 400),\n",
    "        angle_labels=angle_labels,\n",
    "        percent_fixed_images=1.0,\n",
    "        overlay_strategy=\"sum\",\n",
    "        start_points=start_points,\n",
    "        occl_sizes=occl_sizes,\n",
    "        transformation=\"occl\",\n",
    "        jsma_enabled=False,\n",
    "        jsma_count=5,\n",
    "        gradient_descent_step_size=5,\n",
    "        simulated_annealing_b=0.96,\n",
    "        simulated_annealing_k=30,\n",
    "        simulated_annealing_enabled=True,\n",
    "    )\n",
    "\n",
    "    imsave(f\"../../out/decal_{i}.png\", decal)\n",
    "\n",
    "    ## enable saving the substitute images from the paper\n",
    "    # for j, img in enumerate(output_images):\n",
    "    #     imsave(f\"../../out/sub_iter_{i}_img_{j}.png\", img)"
   ],
   "metadata": {
    "collapsed": false,
    "pycharm": {
     "name": "#%%\n",
     "is_executing": true
    }
   }
  }
 ],
 "metadata": {
  "kernelspec": {
   "display_name": "Python 3",
   "language": "python",
   "name": "python3"
  },
  "language_info": {
   "codemirror_mode": {
    "name": "ipython",
    "version": 2
   },
   "file_extension": ".py",
   "mimetype": "text/x-python",
   "name": "python",
   "nbconvert_exporter": "python",
   "pygments_lexer": "ipython2",
   "version": "2.7.6"
  }
 },
 "nbformat": 4,
 "nbformat_minor": 0
}